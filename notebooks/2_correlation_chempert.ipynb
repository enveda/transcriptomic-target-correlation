{
 "cells": [
  {
   "cell_type": "raw",
   "id": "18fc41d2",
   "metadata": {},
   "source": [
    "---\n",
    "title: Correlation for Chempert Drugs\n",
    "authors:\n",
    "- Chloe Engler\n",
    "tags:\n",
    "- transcriptomics\n",
    "- chempert\n",
    "created_at: 2022-07-18\n",
    "tldr: The notebook looks at the transcriptomic signatures and target information for about 2000 different drugs. For each drug, it compares the similarity of the transcriptomic and target vectors by using several different correlation metrics.\n",
    "---"
   ]
  },
  {
   "cell_type": "markdown",
   "id": "lyric-repository",
   "metadata": {},
   "source": [
    "# Studying the correlation between drug-induced transcriptomic response and known targets\n",
    "\n",
    "Data used (generated in the previous notebook):\n",
    "- target_vectors.tsv (vectors representing the known targets of each drug)\n",
    "- transcriptional_response_vectors.tsv (vectors representing the DEG induced by each drug)\n",
    "\n",
    "In both matrices, the rows are chemicals and the columns are genes. The order of rows/columns is the same in both."
   ]
  },
  {
   "cell_type": "code",
   "execution_count": 1,
   "id": "smart-calendar",
   "metadata": {},
   "outputs": [],
   "source": [
    "import getpass\n",
    "import sys\n",
    "import time\n",
    "import pandas as pd\n",
    "from scipy import stats\n",
    "import numpy as np\n",
    "import seaborn as sns\n",
    "from scipy.stats import linregress\n",
    "import warnings\n",
    "from tqdm import tqdm\n",
    "warnings.filterwarnings('ignore')"
   ]
  },
  {
   "cell_type": "code",
   "execution_count": 2,
   "id": "catholic-edgar",
   "metadata": {},
   "outputs": [
    {
     "data": {
      "text/plain": [
       "'chloeengler'"
      ]
     },
     "execution_count": 2,
     "metadata": {},
     "output_type": "execute_result"
    }
   ],
   "source": [
    "getpass.getuser()"
   ]
  },
  {
   "cell_type": "code",
   "execution_count": 3,
   "id": "pursuant-system",
   "metadata": {},
   "outputs": [
    {
     "data": {
      "text/plain": [
       "'3.9.7 (default, Sep 16 2021, 08:50:36) \\n[Clang 10.0.0 ]'"
      ]
     },
     "execution_count": 3,
     "metadata": {},
     "output_type": "execute_result"
    }
   ],
   "source": [
    "sys.version"
   ]
  },
  {
   "cell_type": "code",
   "execution_count": 4,
   "id": "racial-abortion",
   "metadata": {},
   "outputs": [
    {
     "data": {
      "text/plain": [
       "'Sat Aug  6 10:56:36 2022'"
      ]
     },
     "execution_count": 4,
     "metadata": {},
     "output_type": "execute_result"
    }
   ],
   "source": [
    "time.asctime()"
   ]
  },
  {
   "cell_type": "markdown",
   "id": "surgical-vehicle",
   "metadata": {},
   "source": [
    "## Load drug-induced transcriptomic response "
   ]
  },
  {
   "cell_type": "code",
   "execution_count": 5,
   "id": "crucial-rehabilitation",
   "metadata": {},
   "outputs": [
    {
     "data": {
      "text/html": [
       "<div>\n",
       "<style scoped>\n",
       "    .dataframe tbody tr th:only-of-type {\n",
       "        vertical-align: middle;\n",
       "    }\n",
       "\n",
       "    .dataframe tbody tr th {\n",
       "        vertical-align: top;\n",
       "    }\n",
       "\n",
       "    .dataframe thead th {\n",
       "        text-align: right;\n",
       "    }\n",
       "</style>\n",
       "<table border=\"1\" class=\"dataframe\">\n",
       "  <thead>\n",
       "    <tr style=\"text-align: right;\">\n",
       "      <th></th>\n",
       "      <th>AAAS</th>\n",
       "      <th>AADAC</th>\n",
       "      <th>AADACL2</th>\n",
       "      <th>AADAT</th>\n",
       "      <th>AASS</th>\n",
       "      <th>AATF</th>\n",
       "      <th>ABAT</th>\n",
       "      <th>ABCA1</th>\n",
       "      <th>ABCB1</th>\n",
       "      <th>ABCB11</th>\n",
       "      <th>...</th>\n",
       "      <th>ZSCAN32</th>\n",
       "      <th>ZSCAN4</th>\n",
       "      <th>ZSCAN5A</th>\n",
       "      <th>ZSCAN5B</th>\n",
       "      <th>ZSCAN5DP</th>\n",
       "      <th>ZSCAN9</th>\n",
       "      <th>ZXDA</th>\n",
       "      <th>ZXDB</th>\n",
       "      <th>ZXDC</th>\n",
       "      <th>ZZZ3</th>\n",
       "    </tr>\n",
       "  </thead>\n",
       "  <tbody>\n",
       "    <tr>\n",
       "      <th>CID00001</th>\n",
       "      <td>0</td>\n",
       "      <td>0</td>\n",
       "      <td>0</td>\n",
       "      <td>0</td>\n",
       "      <td>0</td>\n",
       "      <td>1</td>\n",
       "      <td>0</td>\n",
       "      <td>0</td>\n",
       "      <td>0</td>\n",
       "      <td>0</td>\n",
       "      <td>...</td>\n",
       "      <td>0</td>\n",
       "      <td>0</td>\n",
       "      <td>0</td>\n",
       "      <td>0</td>\n",
       "      <td>0</td>\n",
       "      <td>-1</td>\n",
       "      <td>0</td>\n",
       "      <td>0</td>\n",
       "      <td>0</td>\n",
       "      <td>-1</td>\n",
       "    </tr>\n",
       "    <tr>\n",
       "      <th>CID00002</th>\n",
       "      <td>0</td>\n",
       "      <td>0</td>\n",
       "      <td>0</td>\n",
       "      <td>0</td>\n",
       "      <td>0</td>\n",
       "      <td>-1</td>\n",
       "      <td>0</td>\n",
       "      <td>0</td>\n",
       "      <td>0</td>\n",
       "      <td>0</td>\n",
       "      <td>...</td>\n",
       "      <td>0</td>\n",
       "      <td>0</td>\n",
       "      <td>0</td>\n",
       "      <td>0</td>\n",
       "      <td>0</td>\n",
       "      <td>1</td>\n",
       "      <td>0</td>\n",
       "      <td>0</td>\n",
       "      <td>1</td>\n",
       "      <td>-1</td>\n",
       "    </tr>\n",
       "    <tr>\n",
       "      <th>CID00006</th>\n",
       "      <td>0</td>\n",
       "      <td>0</td>\n",
       "      <td>0</td>\n",
       "      <td>0</td>\n",
       "      <td>0</td>\n",
       "      <td>-1</td>\n",
       "      <td>0</td>\n",
       "      <td>0</td>\n",
       "      <td>0</td>\n",
       "      <td>0</td>\n",
       "      <td>...</td>\n",
       "      <td>0</td>\n",
       "      <td>0</td>\n",
       "      <td>0</td>\n",
       "      <td>0</td>\n",
       "      <td>0</td>\n",
       "      <td>1</td>\n",
       "      <td>0</td>\n",
       "      <td>0</td>\n",
       "      <td>0</td>\n",
       "      <td>-1</td>\n",
       "    </tr>\n",
       "    <tr>\n",
       "      <th>CID00007</th>\n",
       "      <td>0</td>\n",
       "      <td>0</td>\n",
       "      <td>0</td>\n",
       "      <td>0</td>\n",
       "      <td>0</td>\n",
       "      <td>0</td>\n",
       "      <td>0</td>\n",
       "      <td>0</td>\n",
       "      <td>0</td>\n",
       "      <td>0</td>\n",
       "      <td>...</td>\n",
       "      <td>1</td>\n",
       "      <td>0</td>\n",
       "      <td>0</td>\n",
       "      <td>0</td>\n",
       "      <td>0</td>\n",
       "      <td>1</td>\n",
       "      <td>0</td>\n",
       "      <td>0</td>\n",
       "      <td>0</td>\n",
       "      <td>-1</td>\n",
       "    </tr>\n",
       "  </tbody>\n",
       "</table>\n",
       "<p>4 rows × 4938 columns</p>\n",
       "</div>"
      ],
      "text/plain": [
       "          AAAS  AADAC  AADACL2  AADAT  AASS  AATF  ABAT  ABCA1  ABCB1  ABCB11  \\\n",
       "CID00001     0      0        0      0     0     1     0      0      0       0   \n",
       "CID00002     0      0        0      0     0    -1     0      0      0       0   \n",
       "CID00006     0      0        0      0     0    -1     0      0      0       0   \n",
       "CID00007     0      0        0      0     0     0     0      0      0       0   \n",
       "\n",
       "          ...  ZSCAN32  ZSCAN4  ZSCAN5A  ZSCAN5B  ZSCAN5DP  ZSCAN9  ZXDA  \\\n",
       "CID00001  ...        0       0        0        0         0      -1     0   \n",
       "CID00002  ...        0       0        0        0         0       1     0   \n",
       "CID00006  ...        0       0        0        0         0       1     0   \n",
       "CID00007  ...        1       0        0        0         0       1     0   \n",
       "\n",
       "          ZXDB  ZXDC  ZZZ3  \n",
       "CID00001     0     0    -1  \n",
       "CID00002     0     1    -1  \n",
       "CID00006     0     0    -1  \n",
       "CID00007     0     0    -1  \n",
       "\n",
       "[4 rows x 4938 columns]"
      ]
     },
     "execution_count": 5,
     "metadata": {},
     "output_type": "execute_result"
    }
   ],
   "source": [
    "transcriptomic_responses_df = pd.read_csv(\n",
    "    '../data/Transcriptional_data_frames/transcriptional_response_vectors.tsv',\n",
    "    sep='\\t',\n",
    "    index_col=0,\n",
    ")\n",
    "transcriptomic_responses_df.head(4)"
   ]
  },
  {
   "cell_type": "markdown",
   "id": "million-butter",
   "metadata": {},
   "source": [
    "## Load the known targets for each drug"
   ]
  },
  {
   "cell_type": "code",
   "execution_count": 6,
   "id": "assisted-benjamin",
   "metadata": {},
   "outputs": [
    {
     "data": {
      "text/html": [
       "<div>\n",
       "<style scoped>\n",
       "    .dataframe tbody tr th:only-of-type {\n",
       "        vertical-align: middle;\n",
       "    }\n",
       "\n",
       "    .dataframe tbody tr th {\n",
       "        vertical-align: top;\n",
       "    }\n",
       "\n",
       "    .dataframe thead th {\n",
       "        text-align: right;\n",
       "    }\n",
       "</style>\n",
       "<table border=\"1\" class=\"dataframe\">\n",
       "  <thead>\n",
       "    <tr style=\"text-align: right;\">\n",
       "      <th></th>\n",
       "      <th>AAAS</th>\n",
       "      <th>AADAC</th>\n",
       "      <th>AADACL2</th>\n",
       "      <th>AADAT</th>\n",
       "      <th>AASS</th>\n",
       "      <th>AATF</th>\n",
       "      <th>ABAT</th>\n",
       "      <th>ABCA1</th>\n",
       "      <th>ABCB1</th>\n",
       "      <th>ABCB11</th>\n",
       "      <th>...</th>\n",
       "      <th>ZSCAN32</th>\n",
       "      <th>ZSCAN4</th>\n",
       "      <th>ZSCAN5A</th>\n",
       "      <th>ZSCAN5B</th>\n",
       "      <th>ZSCAN5DP</th>\n",
       "      <th>ZSCAN9</th>\n",
       "      <th>ZXDA</th>\n",
       "      <th>ZXDB</th>\n",
       "      <th>ZXDC</th>\n",
       "      <th>ZZZ3</th>\n",
       "    </tr>\n",
       "  </thead>\n",
       "  <tbody>\n",
       "    <tr>\n",
       "      <th>CID00001</th>\n",
       "      <td>0</td>\n",
       "      <td>0</td>\n",
       "      <td>0</td>\n",
       "      <td>0</td>\n",
       "      <td>0</td>\n",
       "      <td>0</td>\n",
       "      <td>0</td>\n",
       "      <td>0</td>\n",
       "      <td>0</td>\n",
       "      <td>0</td>\n",
       "      <td>...</td>\n",
       "      <td>0</td>\n",
       "      <td>0</td>\n",
       "      <td>0</td>\n",
       "      <td>0</td>\n",
       "      <td>0</td>\n",
       "      <td>0</td>\n",
       "      <td>0</td>\n",
       "      <td>0</td>\n",
       "      <td>0</td>\n",
       "      <td>0</td>\n",
       "    </tr>\n",
       "    <tr>\n",
       "      <th>CID00002</th>\n",
       "      <td>0</td>\n",
       "      <td>0</td>\n",
       "      <td>0</td>\n",
       "      <td>0</td>\n",
       "      <td>0</td>\n",
       "      <td>0</td>\n",
       "      <td>0</td>\n",
       "      <td>0</td>\n",
       "      <td>0</td>\n",
       "      <td>0</td>\n",
       "      <td>...</td>\n",
       "      <td>0</td>\n",
       "      <td>0</td>\n",
       "      <td>0</td>\n",
       "      <td>0</td>\n",
       "      <td>0</td>\n",
       "      <td>0</td>\n",
       "      <td>0</td>\n",
       "      <td>0</td>\n",
       "      <td>0</td>\n",
       "      <td>0</td>\n",
       "    </tr>\n",
       "    <tr>\n",
       "      <th>CID00006</th>\n",
       "      <td>0</td>\n",
       "      <td>0</td>\n",
       "      <td>0</td>\n",
       "      <td>0</td>\n",
       "      <td>0</td>\n",
       "      <td>0</td>\n",
       "      <td>0</td>\n",
       "      <td>0</td>\n",
       "      <td>0</td>\n",
       "      <td>0</td>\n",
       "      <td>...</td>\n",
       "      <td>0</td>\n",
       "      <td>0</td>\n",
       "      <td>0</td>\n",
       "      <td>0</td>\n",
       "      <td>0</td>\n",
       "      <td>0</td>\n",
       "      <td>0</td>\n",
       "      <td>0</td>\n",
       "      <td>0</td>\n",
       "      <td>0</td>\n",
       "    </tr>\n",
       "    <tr>\n",
       "      <th>CID00007</th>\n",
       "      <td>0</td>\n",
       "      <td>0</td>\n",
       "      <td>0</td>\n",
       "      <td>0</td>\n",
       "      <td>0</td>\n",
       "      <td>0</td>\n",
       "      <td>0</td>\n",
       "      <td>0</td>\n",
       "      <td>0</td>\n",
       "      <td>0</td>\n",
       "      <td>...</td>\n",
       "      <td>0</td>\n",
       "      <td>0</td>\n",
       "      <td>0</td>\n",
       "      <td>0</td>\n",
       "      <td>0</td>\n",
       "      <td>0</td>\n",
       "      <td>0</td>\n",
       "      <td>0</td>\n",
       "      <td>0</td>\n",
       "      <td>0</td>\n",
       "    </tr>\n",
       "    <tr>\n",
       "      <th>CID00009</th>\n",
       "      <td>0</td>\n",
       "      <td>0</td>\n",
       "      <td>0</td>\n",
       "      <td>0</td>\n",
       "      <td>0</td>\n",
       "      <td>0</td>\n",
       "      <td>0</td>\n",
       "      <td>0</td>\n",
       "      <td>0</td>\n",
       "      <td>0</td>\n",
       "      <td>...</td>\n",
       "      <td>0</td>\n",
       "      <td>0</td>\n",
       "      <td>0</td>\n",
       "      <td>0</td>\n",
       "      <td>0</td>\n",
       "      <td>0</td>\n",
       "      <td>0</td>\n",
       "      <td>0</td>\n",
       "      <td>0</td>\n",
       "      <td>0</td>\n",
       "    </tr>\n",
       "  </tbody>\n",
       "</table>\n",
       "<p>5 rows × 4938 columns</p>\n",
       "</div>"
      ],
      "text/plain": [
       "          AAAS  AADAC  AADACL2  AADAT  AASS  AATF  ABAT  ABCA1  ABCB1  ABCB11  \\\n",
       "CID00001     0      0        0      0     0     0     0      0      0       0   \n",
       "CID00002     0      0        0      0     0     0     0      0      0       0   \n",
       "CID00006     0      0        0      0     0     0     0      0      0       0   \n",
       "CID00007     0      0        0      0     0     0     0      0      0       0   \n",
       "CID00009     0      0        0      0     0     0     0      0      0       0   \n",
       "\n",
       "          ...  ZSCAN32  ZSCAN4  ZSCAN5A  ZSCAN5B  ZSCAN5DP  ZSCAN9  ZXDA  \\\n",
       "CID00001  ...        0       0        0        0         0       0     0   \n",
       "CID00002  ...        0       0        0        0         0       0     0   \n",
       "CID00006  ...        0       0        0        0         0       0     0   \n",
       "CID00007  ...        0       0        0        0         0       0     0   \n",
       "CID00009  ...        0       0        0        0         0       0     0   \n",
       "\n",
       "          ZXDB  ZXDC  ZZZ3  \n",
       "CID00001     0     0     0  \n",
       "CID00002     0     0     0  \n",
       "CID00006     0     0     0  \n",
       "CID00007     0     0     0  \n",
       "CID00009     0     0     0  \n",
       "\n",
       "[5 rows x 4938 columns]"
      ]
     },
     "execution_count": 6,
     "metadata": {},
     "output_type": "execute_result"
    }
   ],
   "source": [
    "targets_df = pd.read_csv(\n",
    "    '../data/target_data_frames/target_vectors_Chempert.tsv',\n",
    "    sep='\\t',\n",
    "    index_col=0,\n",
    ")\n",
    "# targets_df = targets_df.drop(list(set(targets_df.columns) - set(transcriptomic_responses_df.columns)), axis=1)\n",
    "# targets_df.to_csv('../data/target_data_frames/target_vectors_Chempert.tsv')\n",
    "targets_df.head()"
   ]
  },
  {
   "cell_type": "code",
   "execution_count": 7,
   "id": "geographic-evaluation",
   "metadata": {},
   "outputs": [],
   "source": [
    "assert list(targets_df.columns) == list(transcriptomic_responses_df.columns)\n",
    "assert list(targets_df.index) == list(transcriptomic_responses_df.index)"
   ]
  },
  {
   "cell_type": "markdown",
   "id": "d41e9368",
   "metadata": {},
   "source": [
    "# Get Chemical Names"
   ]
  },
  {
   "cell_type": "code",
   "execution_count": 8,
   "id": "4a07a569",
   "metadata": {},
   "outputs": [],
   "source": [
    "#Load chemical names data frame\n",
    "chemical_names = pd.read_csv('../data/ChemPert_data/Information_for_perturbagens_2.csv', sep='@')\n",
    "chemical_names = chemical_names.set_index(\"'id'\")\n",
    "chemical_names.head()\n",
    "\n",
    "#Create chemical names dictionary\n",
    "chemical_names_dict_keys = list(chemical_names['Chemical_ID'])\n",
    "chemical_names_dict_values = list(chemical_names['Chemical_Compound'])\n",
    "chemical_names_dict = {chemical_names_dict_keys[i]:chemical_names_dict_values[i] for i in \\\n",
    "                       range(len(chemical_names_dict_values))}"
   ]
  },
  {
   "cell_type": "code",
   "execution_count": 9,
   "id": "008813c6",
   "metadata": {},
   "outputs": [],
   "source": [
    "import csv\n",
    "\n",
    "#Get chemical names for chemicals in targets_df\n",
    "drugs = targets_df.index.values\n",
    "drug_names = [(chemical_names_dict[drug],drug) for drug in drugs]\n",
    "drug_names.insert(0,('Chemical Name', 'Chemical ID'))\n",
    "\n",
    "#Save file of chemical names and IDs\n",
    "with open('../data/ChemPert_data/chemical_names.csv', 'w') as my_file:\n",
    "    write = csv.writer(my_file)\n",
    "    write.writerows(drug_names)"
   ]
  },
  {
   "cell_type": "markdown",
   "id": "focused-disorder",
   "metadata": {},
   "source": [
    "# Calculate Pearson's correlation for each drug"
   ]
  },
  {
   "cell_type": "code",
   "execution_count": 10,
   "id": "israeli-airfare",
   "metadata": {},
   "outputs": [],
   "source": [
    "from scipy.stats import pearsonr\n",
    "from tqdm import tqdm"
   ]
  },
  {
   "cell_type": "code",
   "execution_count": 11,
   "id": "billion-listening",
   "metadata": {},
   "outputs": [],
   "source": [
    "def get_pearson_corr(\n",
    "    target_matrix: pd.DataFrame,\n",
    "    transcriptomic_matrix: pd.DataFrame,\n",
    "):\n",
    "    \"\"\"Get Pearson correlation for each drug.\"\"\"\n",
    "    correlation_matrix = []\n",
    "    \n",
    "    for drug in tqdm(target_matrix.index.values):\n",
    "        target_vector = target_matrix.loc[drug, :]\n",
    "        transcriptomic_vector = transcriptomic_matrix.loc[drug, :]\n",
    "        corr_val, p_val = pearsonr(target_vector, transcriptomic_vector)\n",
    "        correlation_matrix.append(\n",
    "            {\n",
    "                'drug': drug,\n",
    "                'pearson_correlation': corr_val\n",
    "            }\n",
    "        )\n",
    "    \n",
    "    correlation_df = pd.DataFrame(correlation_matrix)\n",
    "    correlation_df.set_index('drug', inplace=True)\n",
    "    return correlation_df"
   ]
  },
  {
   "cell_type": "code",
   "execution_count": 12,
   "id": "painted-peninsula",
   "metadata": {
    "scrolled": false
   },
   "outputs": [
    {
     "name": "stderr",
     "output_type": "stream",
     "text": [
      "100%|█████████████████████████████████████| 2152/2152 [00:00<00:00, 2545.30it/s]\n"
     ]
    }
   ],
   "source": [
    "pearson_corr_df = get_pearson_corr(target_matrix=targets_df, transcriptomic_matrix=transcriptomic_responses_df)"
   ]
  },
  {
   "cell_type": "code",
   "execution_count": 13,
   "id": "trained-leone",
   "metadata": {},
   "outputs": [
    {
     "data": {
      "text/html": [
       "<div>\n",
       "<style scoped>\n",
       "    .dataframe tbody tr th:only-of-type {\n",
       "        vertical-align: middle;\n",
       "    }\n",
       "\n",
       "    .dataframe tbody tr th {\n",
       "        vertical-align: top;\n",
       "    }\n",
       "\n",
       "    .dataframe thead th {\n",
       "        text-align: right;\n",
       "    }\n",
       "</style>\n",
       "<table border=\"1\" class=\"dataframe\">\n",
       "  <thead>\n",
       "    <tr style=\"text-align: right;\">\n",
       "      <th></th>\n",
       "      <th>pearson_correlation</th>\n",
       "    </tr>\n",
       "  </thead>\n",
       "  <tbody>\n",
       "    <tr>\n",
       "      <th>count</th>\n",
       "      <td>2152.000000</td>\n",
       "    </tr>\n",
       "    <tr>\n",
       "      <th>mean</th>\n",
       "      <td>0.000399</td>\n",
       "    </tr>\n",
       "    <tr>\n",
       "      <th>std</th>\n",
       "      <td>0.011388</td>\n",
       "    </tr>\n",
       "    <tr>\n",
       "      <th>min</th>\n",
       "      <td>-0.171500</td>\n",
       "    </tr>\n",
       "    <tr>\n",
       "      <th>25%</th>\n",
       "      <td>-0.000394</td>\n",
       "    </tr>\n",
       "    <tr>\n",
       "      <th>50%</th>\n",
       "      <td>0.000084</td>\n",
       "    </tr>\n",
       "    <tr>\n",
       "      <th>75%</th>\n",
       "      <td>0.000738</td>\n",
       "    </tr>\n",
       "    <tr>\n",
       "      <th>max</th>\n",
       "      <td>0.137712</td>\n",
       "    </tr>\n",
       "  </tbody>\n",
       "</table>\n",
       "</div>"
      ],
      "text/plain": [
       "       pearson_correlation\n",
       "count          2152.000000\n",
       "mean              0.000399\n",
       "std               0.011388\n",
       "min              -0.171500\n",
       "25%              -0.000394\n",
       "50%               0.000084\n",
       "75%               0.000738\n",
       "max               0.137712"
      ]
     },
     "execution_count": 13,
     "metadata": {},
     "output_type": "execute_result"
    }
   ],
   "source": [
    "pearson_corr_df.describe()"
   ]
  },
  {
   "cell_type": "code",
   "execution_count": 14,
   "id": "286264db",
   "metadata": {},
   "outputs": [
    {
     "name": "stdout",
     "output_type": "stream",
     "text": [
      "pearson_correlation    0.007403\n",
      "Name: CID01388, dtype: float64\n"
     ]
    }
   ],
   "source": [
    "print(pearson_corr_df.loc['CID01388'])\n",
    "#pearson_corr_df.nlargest(50, 'pearson_correlation')\n"
   ]
  },
  {
   "cell_type": "code",
   "execution_count": 15,
   "id": "immune-anthony",
   "metadata": {},
   "outputs": [],
   "source": [
    "import seaborn as sns\n",
    "import matplotlib.pyplot as plt"
   ]
  },
  {
   "cell_type": "code",
   "execution_count": 16,
   "id": "plain-ensemble",
   "metadata": {},
   "outputs": [
    {
     "data": {
      "image/png": "[encoded data removed]",
      "text/plain": [
       "<Figure size 360x360 with 1 Axes>"
      ]
     },
     "metadata": {
      "needs_background": "light"
     },
     "output_type": "display_data"
    }
   ],
   "source": [
    "plt.figure(figsize=(5,5))\n",
    "sns.distplot(pearson_corr_df.values, hist=False)\n",
    "# Set x-axis label\n",
    "plt.xlabel('Pearson Correlation Scores')\n",
    "#plt.savefig('../figures/figure_3a.png')\n",
    "plt.xlim([-.05,.05])\n",
    "plt.show()"
   ]
  },
  {
   "cell_type": "markdown",
   "id": "9735a031",
   "metadata": {},
   "source": [
    "### Pearson Correlation for Drugs with More Than 10 Targets"
   ]
  },
  {
   "cell_type": "code",
   "execution_count": 17,
   "id": "legal-applicant",
   "metadata": {},
   "outputs": [
    {
     "data": {
      "image/png": "[encoded data removed]",
      "text/plain": [
       "<Figure size 720x360 with 1 Axes>"
      ]
     },
     "metadata": {
      "needs_background": "light"
     },
     "output_type": "display_data"
    },
    {
     "name": "stdout",
     "output_type": "stream",
     "text": [
      "P-value: 5.985235156602542e-06\n",
      "Mean Pearson Correlation for Drugs with More Than 10 Targets: -0.0011089977739461873\n",
      "Mean Pearson Correlation for All Drugs: 0.0003991182731171203\n"
     ]
    }
   ],
   "source": [
    "# Check out the drugs with more than 10 targets and see if they have a higher corrrelation than the rest\n",
    "\n",
    "#Set initial variables\n",
    "corr_many_targets = []\n",
    "\n",
    "#Get drugs with more than 10 targets\n",
    "for drug in targets_df.index.values:\n",
    "    if np.count_nonzero(targets_df.loc[drug]) > 10:\n",
    "        corr_many_targets.append(pearson_corr_df.loc[drug, 'pearson_correlation'])\n",
    "\n",
    "\n",
    "plt.figure(figsize=(10,5))\n",
    "sns.distplot(corr_many_targets)\n",
    "plt.title(\"Pearson Correlation for Drugs with More Than 10 Targets\")\n",
    "plt.xlabel('Pearson Correlation Values')\n",
    "plt.show()\n",
    "\n",
    "#Print P-value determining whether all drugs and drugs with more than 10 targets\n",
    "#come from the same distribution\n",
    "print(\"P-value: \" + str(stats.ks_2samp(corr_many_targets, np.squeeze(pearson_corr_df.values))[1]))\n",
    "print(\"Mean Pearson Correlation for Drugs with More Than 10 Targets: \" \\\n",
    "      + str(np.nansum(corr_many_targets)/len(corr_many_targets)))\n",
    "print(\"Mean Pearson Correlation for All Drugs: \" \\\n",
    "      + str(np.nansum(np.squeeze(pearson_corr_df.values))/len(np.squeeze(pearson_corr_df.values))))"
   ]
  },
  {
   "cell_type": "markdown",
   "id": "756b6902",
   "metadata": {},
   "source": [
    "### Pearson Correlation for 50 Drugs with the most DEGs"
   ]
  },
  {
   "cell_type": "code",
   "execution_count": 18,
   "id": "98158478",
   "metadata": {},
   "outputs": [
    {
     "data": {
      "image/png": "[encoded data removed]",
      "text/plain": [
       "<Figure size 720x360 with 1 Axes>"
      ]
     },
     "metadata": {
      "needs_background": "light"
     },
     "output_type": "display_data"
    },
    {
     "name": "stdout",
     "output_type": "stream",
     "text": [
      "P-value: 1.5010215292932116e-13\n",
      "Mean Pearson Correlation for 50 Drugs with the Most DEGs: 0.00015772955349779177\n",
      "Mean Pearson Correlation for All Drugs: 0.0003991182731171203\n"
     ]
    }
   ],
   "source": [
    "# Check out the top 50 drugs with more DEG (Differentially expressed genes) and see \n",
    "#if they have a higher correlation than the rest\n",
    "\n",
    "#Set initial variables\n",
    "num_nonzero_vals = {}\n",
    "\n",
    "#Get number of DEGs for each drug\n",
    "for drug in transcriptomic_responses_df.index.values:\n",
    "    num_nonzero_vals[drug] = np.count_nonzero(transcriptomic_responses_df.loc[drug])\n",
    "    \n",
    "#Get 50 drugs with the most DEGs\n",
    "DEG_drugs = [x for _,x in sorted(zip(num_nonzero_vals.values(), num_nonzero_vals.keys()), reverse=True)]\n",
    "corr_DEG_drugs = [pearson_corr_df.loc[drug, 'pearson_correlation'] for drug in DEG_drugs[:50]]\n",
    "\n",
    "plt.figure(figsize=(10,5))\n",
    "sns.distplot(corr_DEG_drugs)\n",
    "plt.title(\"Pearson Correlation for 50 Drugs with the Most DEGs\")\n",
    "plt.xlabel('Pearson Correlation Values')\n",
    "plt.show()\n",
    "\n",
    "#Print P-value determining whether all drugs and drugs with more DEGs\n",
    "#come from the same distribution\n",
    "print(\"P-value: \" + str(stats.ks_2samp(corr_DEG_drugs, np.squeeze(pearson_corr_df.values))[1]))\n",
    "print(\"Mean Pearson Correlation for 50 Drugs with the Most DEGs: \" \\\n",
    "      + str(np.nansum(corr_DEG_drugs)/len(corr_DEG_drugs)))\n",
    "print(\"Mean Pearson Correlation for All Drugs: \" \\\n",
    "      + str(np.nansum(np.squeeze(pearson_corr_df.values))/len(np.squeeze(pearson_corr_df.values))))"
   ]
  },
  {
   "cell_type": "markdown",
   "id": "occupational-sleeping",
   "metadata": {},
   "source": [
    "# Calculate Jaccard's similarity for each drug"
   ]
  },
  {
   "cell_type": "code",
   "execution_count": 19,
   "id": "neutral-kingdom",
   "metadata": {},
   "outputs": [],
   "source": [
    "from scipy.spatial.distance import jaccard"
   ]
  },
  {
   "cell_type": "code",
   "execution_count": 20,
   "id": "neither-dispatch",
   "metadata": {},
   "outputs": [],
   "source": [
    "def get_jaccard_correlation(\n",
    "    target_matrix: pd.DataFrame,\n",
    "    transcriptomic_matrix: pd.DataFrame,\n",
    "):\n",
    "    \"\"\"Get Jaccard similarity for each drug.\"\"\"\n",
    "    correlation_matrix = []\n",
    "    \n",
    "    for drug in tqdm(target_matrix.index.values):\n",
    "        target_vector = target_matrix.loc[drug, :]\n",
    "        transcriptomic_vector = transcriptomic_matrix.loc[drug, :]\n",
    "        dissimilarity_score = jaccard(target_vector, transcriptomic_vector)\n",
    "        similarity = 1 - dissimilarity_score\n",
    "        correlation_matrix.append(\n",
    "            {\n",
    "                'drug': drug,\n",
    "                'jaccard_correlation': similarity\n",
    "            }\n",
    "        )\n",
    "    \n",
    "    correlation_df = pd.DataFrame(correlation_matrix)\n",
    "    correlation_df.set_index('drug', inplace=True)\n",
    "    return correlation_df"
   ]
  },
  {
   "cell_type": "code",
   "execution_count": 21,
   "id": "lovely-telescope",
   "metadata": {},
   "outputs": [
    {
     "name": "stderr",
     "output_type": "stream",
     "text": [
      "100%|█████████████████████████████████████| 2152/2152 [00:00<00:00, 5107.03it/s]\n"
     ]
    }
   ],
   "source": [
    "jaccard_corr_df = get_jaccard_correlation(\n",
    "    target_matrix=targets_df, \n",
    "    transcriptomic_matrix=transcriptomic_responses_df\n",
    ")"
   ]
  },
  {
   "cell_type": "code",
   "execution_count": 22,
   "id": "filled-garden",
   "metadata": {},
   "outputs": [
    {
     "data": {
      "text/html": [
       "<div>\n",
       "<style scoped>\n",
       "    .dataframe tbody tr th:only-of-type {\n",
       "        vertical-align: middle;\n",
       "    }\n",
       "\n",
       "    .dataframe tbody tr th {\n",
       "        vertical-align: top;\n",
       "    }\n",
       "\n",
       "    .dataframe thead th {\n",
       "        text-align: right;\n",
       "    }\n",
       "</style>\n",
       "<table border=\"1\" class=\"dataframe\">\n",
       "  <thead>\n",
       "    <tr style=\"text-align: right;\">\n",
       "      <th></th>\n",
       "      <th>jaccard_correlation</th>\n",
       "    </tr>\n",
       "  </thead>\n",
       "  <tbody>\n",
       "    <tr>\n",
       "      <th>count</th>\n",
       "      <td>2152.000000</td>\n",
       "    </tr>\n",
       "    <tr>\n",
       "      <th>mean</th>\n",
       "      <td>0.000197</td>\n",
       "    </tr>\n",
       "    <tr>\n",
       "      <th>std</th>\n",
       "      <td>0.000837</td>\n",
       "    </tr>\n",
       "    <tr>\n",
       "      <th>min</th>\n",
       "      <td>0.000000</td>\n",
       "    </tr>\n",
       "    <tr>\n",
       "      <th>25%</th>\n",
       "      <td>0.000000</td>\n",
       "    </tr>\n",
       "    <tr>\n",
       "      <th>50%</th>\n",
       "      <td>0.000000</td>\n",
       "    </tr>\n",
       "    <tr>\n",
       "      <th>75%</th>\n",
       "      <td>0.000000</td>\n",
       "    </tr>\n",
       "    <tr>\n",
       "      <th>max</th>\n",
       "      <td>0.018868</td>\n",
       "    </tr>\n",
       "  </tbody>\n",
       "</table>\n",
       "</div>"
      ],
      "text/plain": [
       "       jaccard_correlation\n",
       "count          2152.000000\n",
       "mean              0.000197\n",
       "std               0.000837\n",
       "min               0.000000\n",
       "25%               0.000000\n",
       "50%               0.000000\n",
       "75%               0.000000\n",
       "max               0.018868"
      ]
     },
     "execution_count": 22,
     "metadata": {},
     "output_type": "execute_result"
    }
   ],
   "source": [
    "jaccard_corr_df.describe()"
   ]
  },
  {
   "cell_type": "code",
   "execution_count": 23,
   "id": "experimental-bidder",
   "metadata": {},
   "outputs": [
    {
     "data": {
      "image/png": "[encoded data removed]",
      "text/plain": [
       "<Figure size 360x360 with 1 Axes>"
      ]
     },
     "metadata": {
      "needs_background": "light"
     },
     "output_type": "display_data"
    }
   ],
   "source": [
    "plt.figure(figsize=(5,5))\n",
    "sns.distplot(jaccard_corr_df.values)\n",
    "# Set x-axis label\n",
    "plt.xlabel('Jaccard Similarity Scores')\n",
    "#plt.savefig('../figures/figure_3c.png')\n",
    "plt.show()"
   ]
  },
  {
   "cell_type": "markdown",
   "id": "sapphire-philip",
   "metadata": {},
   "source": [
    "# Compare between correlation metrics"
   ]
  },
  {
   "cell_type": "code",
   "execution_count": 24,
   "id": "5468df19",
   "metadata": {},
   "outputs": [
    {
     "data": {
      "text/html": [
       "<div>\n",
       "<style scoped>\n",
       "    .dataframe tbody tr th:only-of-type {\n",
       "        vertical-align: middle;\n",
       "    }\n",
       "\n",
       "    .dataframe tbody tr th {\n",
       "        vertical-align: top;\n",
       "    }\n",
       "\n",
       "    .dataframe thead th {\n",
       "        text-align: right;\n",
       "    }\n",
       "</style>\n",
       "<table border=\"1\" class=\"dataframe\">\n",
       "  <thead>\n",
       "    <tr style=\"text-align: right;\">\n",
       "      <th></th>\n",
       "      <th>pearson_correlation</th>\n",
       "      <th>jaccard_correlation</th>\n",
       "    </tr>\n",
       "    <tr>\n",
       "      <th>drug</th>\n",
       "      <th></th>\n",
       "      <th></th>\n",
       "    </tr>\n",
       "  </thead>\n",
       "  <tbody>\n",
       "    <tr>\n",
       "      <th>CID00001</th>\n",
       "      <td>0.016562</td>\n",
       "      <td>0.001605</td>\n",
       "    </tr>\n",
       "    <tr>\n",
       "      <th>CID00002</th>\n",
       "      <td>-0.001125</td>\n",
       "      <td>0.000000</td>\n",
       "    </tr>\n",
       "    <tr>\n",
       "      <th>CID00006</th>\n",
       "      <td>0.001420</td>\n",
       "      <td>0.000000</td>\n",
       "    </tr>\n",
       "    <tr>\n",
       "      <th>CID00007</th>\n",
       "      <td>0.000419</td>\n",
       "      <td>0.000000</td>\n",
       "    </tr>\n",
       "    <tr>\n",
       "      <th>CID00009</th>\n",
       "      <td>-0.000900</td>\n",
       "      <td>0.000000</td>\n",
       "    </tr>\n",
       "  </tbody>\n",
       "</table>\n",
       "</div>"
      ],
      "text/plain": [
       "          pearson_correlation  jaccard_correlation\n",
       "drug                                              \n",
       "CID00001             0.016562             0.001605\n",
       "CID00002            -0.001125             0.000000\n",
       "CID00006             0.001420             0.000000\n",
       "CID00007             0.000419             0.000000\n",
       "CID00009            -0.000900             0.000000"
      ]
     },
     "execution_count": 24,
     "metadata": {},
     "output_type": "execute_result"
    }
   ],
   "source": [
    "all_corr_df = pd.merge(pearson_corr_df, jaccard_corr_df, on='drug', how='inner')\n",
    "all_corr_df.head()"
   ]
  },
  {
   "cell_type": "code",
   "execution_count": 25,
   "id": "hydraulic-pakistan",
   "metadata": {},
   "outputs": [
    {
     "data": {
      "image/png": "[encoded data removed]",
      "text/plain": [
       "<Figure size 360x360 with 6 Axes>"
      ]
     },
     "metadata": {
      "needs_background": "light"
     },
     "output_type": "display_data"
    }
   ],
   "source": [
    "\n",
    "#Make graphs comparing the correltation scores for the different correlation metrics\n",
    "correlation_types = ['pearson', 'jaccard']\n",
    "r_values = np.zeros((len(correlation_types), len(correlation_types)))\n",
    "for i,c1 in enumerate(correlation_types):\n",
    "    for j,c2 in enumerate(correlation_types):\n",
    "        slope, intercept, r, p, se = linregress(list(all_corr_df[c1 + '_correlation']), \\\n",
    "                                                list(all_corr_df[c2 + '_correlation']))\n",
    "        r_values[i,j] = r\n",
    "\n",
    "\n",
    "sns.pairplot(data=all_corr_df)\n",
    "plt.suptitle('Correlation Between Correlation Measures')\n",
    "plt.tight_layout()\n",
    "plt.show()"
   ]
  },
  {
   "cell_type": "markdown",
   "id": "unsigned-wrist",
   "metadata": {},
   "source": [
    "# Permutate original targets and original perturbations and re-calculate correlations"
   ]
  },
  {
   "cell_type": "markdown",
   "id": "f0d5a232",
   "metadata": {},
   "source": [
    "### Permutate pairs and apply pearson correlation"
   ]
  },
  {
   "cell_type": "code",
   "execution_count": 26,
   "id": "b061a318",
   "metadata": {},
   "outputs": [],
   "source": [
    "def get_pearson_corr_permutation(\n",
    "    target_matrix: pd.DataFrame,\n",
    "    transcriptomic_matrix: pd.DataFrame,\n",
    "):\n",
    "    \"\"\"Get Pearson correlation for each drug.\"\"\"\n",
    "    correlation_matrix = []\n",
    "    \n",
    "    for i,drug in enumerate(target_matrix.index.values):\n",
    "        target_vector = target_matrix.loc[drug, :]\n",
    "        transcriptomic_vector = transcriptomic_matrix.iloc[i, :]\n",
    "        #print(transcriptomic_vector)\n",
    "        corr_val, p_val = pearsonr(target_vector, transcriptomic_vector)\n",
    "        correlation_matrix.append(\n",
    "            {\n",
    "                'drug': drug,\n",
    "                'pearson_correlation': corr_val\n",
    "            }\n",
    "        )\n",
    "    \n",
    "    correlation_df = pd.DataFrame(correlation_matrix)\n",
    "    correlation_df.set_index('drug', inplace=True)\n",
    "    return correlation_df"
   ]
  },
  {
   "cell_type": "code",
   "execution_count": 27,
   "id": "b497bc7e",
   "metadata": {},
   "outputs": [
    {
     "name": "stderr",
     "output_type": "stream",
     "text": [
      "100%|███████████████████████████████████████| 1000/1000 [16:48<00:00,  1.01s/it]\n"
     ]
    },
    {
     "data": {
      "image/png": "[encoded data removed]",
      "text/plain": [
       "<Figure size 432x288 with 1 Axes>"
      ]
     },
     "metadata": {
      "needs_background": "light"
     },
     "output_type": "display_data"
    },
    {
     "data": {
      "text/plain": [
       "<Figure size 3000x2000 with 0 Axes>"
      ]
     },
     "metadata": {},
     "output_type": "display_data"
    },
    {
     "data": {
      "image/png": "[encoded data removed]",
      "text/plain": [
       "<Figure size 504x504 with 1 Axes>"
      ]
     },
     "metadata": {
      "needs_background": "light"
     },
     "output_type": "display_data"
    },
    {
     "name": "stdout",
     "output_type": "stream",
     "text": [
      "Permutation Test P-Value: 0.503\n"
     ]
    }
   ],
   "source": [
    "#Set initial variables\n",
    "permutation_means = []\n",
    "num_compounds = targets_df.shape[0]\n",
    "num_permutations = 1000\n",
    "\n",
    "#calculate pearson correlation for 100 different permutations\n",
    "for i in tqdm(range(num_permutations)):\n",
    "    current_target_df = targets_df.copy()\n",
    "    current_transcriptomic_df = transcriptomic_responses_df.copy()\n",
    "    current_transcriptomic_df = current_transcriptomic_df.sample(frac=1)\n",
    "    current_pearson_corr_df = get_pearson_corr_permutation(target_matrix=current_target_df, \\\n",
    "                                               transcriptomic_matrix=current_transcriptomic_df)\n",
    "    permutation_means.append(np.nansum(current_pearson_corr_df['pearson_correlation'])/num_compounds)\n",
    "    sns.distplot(current_pearson_corr_df.values, hist=False, color='lightblue')\n",
    "    \n",
    "#Plot pearson correlation scores for the permutations\n",
    "sns.distplot(pearson_corr_df.values, hist=False, color='orange', label = \"Pearson correlation values w/o permutation\")\n",
    "plt.title(\"Pearson correlation values for permutated data frames\")\n",
    "plt.legend()\n",
    "plt.show()\n",
    "\n",
    "#Plot the mean pearson correlation scores for the permutations\n",
    "plt.figure(dpi=500)\n",
    "original_mean = np.nansum(pearson_corr_df['pearson_correlation'])/num_compounds\n",
    "plt.figure().set_size_inches(7,7)\n",
    "plt.hist(permutation_means, zorder=0)\n",
    "plt.scatter(original_mean, .2, s = 100, \\\n",
    "            label = 'Mean Pearson Correlation Without Permutation', color = 'orange')\n",
    "plt.xlabel('Pearson Correlation Values')\n",
    "plt.ylabel('Density')\n",
    "plt.legend()\n",
    "#plt.savefig('../figures/figure_4.png')\n",
    "plt.show()\n",
    "\n",
    "#Get the permutation test p-value (based on the means)\n",
    "p_value = len([x for x in permutation_means if x >= original_mean])/num_permutations\n",
    "print(\"Permutation Test P-Value: \" + str(p_value))"
   ]
  },
  {
   "cell_type": "code",
   "execution_count": 28,
   "id": "a78cdce6",
   "metadata": {},
   "outputs": [
    {
     "name": "stdout",
     "output_type": "stream",
     "text": [
      "KS test P-value: 0.48327568711273255\n"
     ]
    }
   ],
   "source": [
    "#Pick random permutation test and do the KS test with the original pearson correlation scores\n",
    "print(\"KS test P-value: \" + str(stats.ks_2samp(np.squeeze(current_pearson_corr_df.values), \n",
    "                                               np.squeeze(pearson_corr_df.values))[1]))"
   ]
  },
  {
   "cell_type": "markdown",
   "id": "a3dd7688",
   "metadata": {},
   "source": [
    "### Permutate pairs and apply Jaccard correlation"
   ]
  },
  {
   "cell_type": "code",
   "execution_count": 29,
   "id": "542525b4",
   "metadata": {},
   "outputs": [
    {
     "data": {
      "text/html": [
       "<div>\n",
       "<style scoped>\n",
       "    .dataframe tbody tr th:only-of-type {\n",
       "        vertical-align: middle;\n",
       "    }\n",
       "\n",
       "    .dataframe tbody tr th {\n",
       "        vertical-align: top;\n",
       "    }\n",
       "\n",
       "    .dataframe thead th {\n",
       "        text-align: right;\n",
       "    }\n",
       "</style>\n",
       "<table border=\"1\" class=\"dataframe\">\n",
       "  <thead>\n",
       "    <tr style=\"text-align: right;\">\n",
       "      <th></th>\n",
       "      <th>AAAS</th>\n",
       "      <th>AADAC</th>\n",
       "      <th>AADACL2</th>\n",
       "      <th>AADAT</th>\n",
       "      <th>AASS</th>\n",
       "      <th>AATF</th>\n",
       "      <th>ABAT</th>\n",
       "      <th>ABCA1</th>\n",
       "      <th>ABCB1</th>\n",
       "      <th>ABCB11</th>\n",
       "      <th>...</th>\n",
       "      <th>ZSCAN32</th>\n",
       "      <th>ZSCAN4</th>\n",
       "      <th>ZSCAN5A</th>\n",
       "      <th>ZSCAN5B</th>\n",
       "      <th>ZSCAN5DP</th>\n",
       "      <th>ZSCAN9</th>\n",
       "      <th>ZXDA</th>\n",
       "      <th>ZXDB</th>\n",
       "      <th>ZXDC</th>\n",
       "      <th>ZZZ3</th>\n",
       "    </tr>\n",
       "  </thead>\n",
       "  <tbody>\n",
       "    <tr>\n",
       "      <th>CID00001</th>\n",
       "      <td>0</td>\n",
       "      <td>0</td>\n",
       "      <td>0</td>\n",
       "      <td>0</td>\n",
       "      <td>0</td>\n",
       "      <td>1</td>\n",
       "      <td>0</td>\n",
       "      <td>0</td>\n",
       "      <td>0</td>\n",
       "      <td>0</td>\n",
       "      <td>...</td>\n",
       "      <td>0</td>\n",
       "      <td>0</td>\n",
       "      <td>0</td>\n",
       "      <td>0</td>\n",
       "      <td>0</td>\n",
       "      <td>-1</td>\n",
       "      <td>0</td>\n",
       "      <td>0</td>\n",
       "      <td>0</td>\n",
       "      <td>-1</td>\n",
       "    </tr>\n",
       "    <tr>\n",
       "      <th>CID00002</th>\n",
       "      <td>0</td>\n",
       "      <td>0</td>\n",
       "      <td>0</td>\n",
       "      <td>0</td>\n",
       "      <td>0</td>\n",
       "      <td>-1</td>\n",
       "      <td>0</td>\n",
       "      <td>0</td>\n",
       "      <td>0</td>\n",
       "      <td>0</td>\n",
       "      <td>...</td>\n",
       "      <td>0</td>\n",
       "      <td>0</td>\n",
       "      <td>0</td>\n",
       "      <td>0</td>\n",
       "      <td>0</td>\n",
       "      <td>1</td>\n",
       "      <td>0</td>\n",
       "      <td>0</td>\n",
       "      <td>1</td>\n",
       "      <td>-1</td>\n",
       "    </tr>\n",
       "    <tr>\n",
       "      <th>CID00006</th>\n",
       "      <td>0</td>\n",
       "      <td>0</td>\n",
       "      <td>0</td>\n",
       "      <td>0</td>\n",
       "      <td>0</td>\n",
       "      <td>-1</td>\n",
       "      <td>0</td>\n",
       "      <td>0</td>\n",
       "      <td>0</td>\n",
       "      <td>0</td>\n",
       "      <td>...</td>\n",
       "      <td>0</td>\n",
       "      <td>0</td>\n",
       "      <td>0</td>\n",
       "      <td>0</td>\n",
       "      <td>0</td>\n",
       "      <td>1</td>\n",
       "      <td>0</td>\n",
       "      <td>0</td>\n",
       "      <td>0</td>\n",
       "      <td>-1</td>\n",
       "    </tr>\n",
       "    <tr>\n",
       "      <th>CID00007</th>\n",
       "      <td>0</td>\n",
       "      <td>0</td>\n",
       "      <td>0</td>\n",
       "      <td>0</td>\n",
       "      <td>0</td>\n",
       "      <td>0</td>\n",
       "      <td>0</td>\n",
       "      <td>0</td>\n",
       "      <td>0</td>\n",
       "      <td>0</td>\n",
       "      <td>...</td>\n",
       "      <td>1</td>\n",
       "      <td>0</td>\n",
       "      <td>0</td>\n",
       "      <td>0</td>\n",
       "      <td>0</td>\n",
       "      <td>1</td>\n",
       "      <td>0</td>\n",
       "      <td>0</td>\n",
       "      <td>0</td>\n",
       "      <td>-1</td>\n",
       "    </tr>\n",
       "    <tr>\n",
       "      <th>CID00009</th>\n",
       "      <td>0</td>\n",
       "      <td>0</td>\n",
       "      <td>0</td>\n",
       "      <td>0</td>\n",
       "      <td>0</td>\n",
       "      <td>-1</td>\n",
       "      <td>0</td>\n",
       "      <td>0</td>\n",
       "      <td>0</td>\n",
       "      <td>0</td>\n",
       "      <td>...</td>\n",
       "      <td>0</td>\n",
       "      <td>0</td>\n",
       "      <td>0</td>\n",
       "      <td>0</td>\n",
       "      <td>0</td>\n",
       "      <td>1</td>\n",
       "      <td>0</td>\n",
       "      <td>0</td>\n",
       "      <td>0</td>\n",
       "      <td>-1</td>\n",
       "    </tr>\n",
       "  </tbody>\n",
       "</table>\n",
       "<p>5 rows × 4938 columns</p>\n",
       "</div>"
      ],
      "text/plain": [
       "          AAAS  AADAC  AADACL2  AADAT  AASS  AATF  ABAT  ABCA1  ABCB1  ABCB11  \\\n",
       "CID00001     0      0        0      0     0     1     0      0      0       0   \n",
       "CID00002     0      0        0      0     0    -1     0      0      0       0   \n",
       "CID00006     0      0        0      0     0    -1     0      0      0       0   \n",
       "CID00007     0      0        0      0     0     0     0      0      0       0   \n",
       "CID00009     0      0        0      0     0    -1     0      0      0       0   \n",
       "\n",
       "          ...  ZSCAN32  ZSCAN4  ZSCAN5A  ZSCAN5B  ZSCAN5DP  ZSCAN9  ZXDA  \\\n",
       "CID00001  ...        0       0        0        0         0      -1     0   \n",
       "CID00002  ...        0       0        0        0         0       1     0   \n",
       "CID00006  ...        0       0        0        0         0       1     0   \n",
       "CID00007  ...        1       0        0        0         0       1     0   \n",
       "CID00009  ...        0       0        0        0         0       1     0   \n",
       "\n",
       "          ZXDB  ZXDC  ZZZ3  \n",
       "CID00001     0     0    -1  \n",
       "CID00002     0     1    -1  \n",
       "CID00006     0     0    -1  \n",
       "CID00007     0     0    -1  \n",
       "CID00009     0     0    -1  \n",
       "\n",
       "[5 rows x 4938 columns]"
      ]
     },
     "execution_count": 29,
     "metadata": {},
     "output_type": "execute_result"
    }
   ],
   "source": [
    "transcriptomic_responses_df.head()"
   ]
  },
  {
   "cell_type": "code",
   "execution_count": 30,
   "id": "744f7946",
   "metadata": {},
   "outputs": [],
   "source": [
    "def get_jaccard_corr_permutation(\n",
    "    target_matrix: pd.DataFrame,\n",
    "    transcriptomic_matrix: pd.DataFrame,\n",
    "):\n",
    "    \"\"\"Get Jaccard correlation for each drug.\"\"\"\n",
    "    correlation_matrix = []\n",
    "    \n",
    "    for i,drug in enumerate(target_matrix.index.values):\n",
    "        target_vector = target_matrix.loc[drug, :]\n",
    "        transcriptomic_vector = transcriptomic_matrix.iloc[i, :]\n",
    "        #print(transcriptomic_vector)\n",
    "        dissimilarity_score = jaccard(target_vector, transcriptomic_vector)\n",
    "        similarity = 1 - dissimilarity_score\n",
    "        correlation_matrix.append(\n",
    "            {\n",
    "                'drug': drug,\n",
    "                'jaccard_correlation': similarity\n",
    "            }\n",
    "        )\n",
    "    \n",
    "    correlation_df = pd.DataFrame(correlation_matrix)\n",
    "    correlation_df.set_index('drug', inplace=True)\n",
    "    return correlation_df"
   ]
  },
  {
   "cell_type": "code",
   "execution_count": 31,
   "id": "84e9fa69",
   "metadata": {},
   "outputs": [
    {
     "name": "stderr",
     "output_type": "stream",
     "text": [
      "100%|███████████████████████████████████████| 1000/1000 [10:29<00:00,  1.59it/s]\n"
     ]
    },
    {
     "data": {
      "image/png": "[encoded data removed]",
      "text/plain": [
       "<Figure size 432x288 with 1 Axes>"
      ]
     },
     "metadata": {
      "needs_background": "light"
     },
     "output_type": "display_data"
    },
    {
     "data": {
      "image/png": "[encoded data removed]",
      "text/plain": [
       "<Figure size 504x504 with 1 Axes>"
      ]
     },
     "metadata": {
      "needs_background": "light"
     },
     "output_type": "display_data"
    },
    {
     "name": "stdout",
     "output_type": "stream",
     "text": [
      "Permutation Test P-Value: 0.813\n"
     ]
    }
   ],
   "source": [
    "#Set initial variables\n",
    "permutation_means = []\n",
    "num_compounds = targets_df.shape[0]\n",
    "num_permutations = 1000\n",
    "\n",
    "#Get jaccard correlation scores for 100 different permutations\n",
    "for i in tqdm(range(num_permutations)):\n",
    "    current_target_df = targets_df.copy()\n",
    "    current_transcriptomic_df = transcriptomic_responses_df.copy()\n",
    "    current_transcriptomic_df = current_transcriptomic_df.sample(frac=1)\n",
    "    current_jaccard_corr_df = get_jaccard_corr_permutation(target_matrix=current_target_df, \\\n",
    "                                               transcriptomic_matrix=current_transcriptomic_df)\n",
    "    permutation_means.append(np.nansum(current_jaccard_corr_df['jaccard_correlation'])/num_compounds)\n",
    "    sns.distplot(current_jaccard_corr_df.values, hist=False, color='lightblue')\n",
    "    \n",
    "#Plot jaccard correlation scores for the permutations\n",
    "sns.distplot(jaccard_corr_df.values, hist=False, color='orange', label = 'Mean Jaccard Correlation w/o Permutation')\n",
    "plt.legend()\n",
    "plt.title(\"Jaccard correlation values for permutated drugs\")\n",
    "plt.legend()\n",
    "plt.show()\n",
    "\n",
    "#Plot the mean jaccard correlation scores for the permutations\n",
    "original_mean = np.nansum(jaccard_corr_df['jaccard_correlation'])/num_compounds\n",
    "plt.figure().set_size_inches(7,7)\n",
    "plt.hist(permutation_means, zorder=0)\n",
    "plt.scatter(original_mean,.2, s=100,\\\n",
    "            label = 'Mean Jaccard Correlation w/o Permutation', color = 'orange')\n",
    "plt.xlabel('Jaccard Correlation Values')\n",
    "plt.title(\"Mean Jaccard correlation scores for permutation tests\")\n",
    "plt.legend()\n",
    "plt.show()\n",
    "\n",
    "#Get the p-value for the permutation test (based on the means)\n",
    "p_value = len([x for x in permutation_means if x >= original_mean])/num_permutations\n",
    "print(\"Permutation Test P-Value: \" + str(p_value))"
   ]
  },
  {
   "cell_type": "code",
   "execution_count": 32,
   "id": "c77f72ac",
   "metadata": {},
   "outputs": [
    {
     "name": "stdout",
     "output_type": "stream",
     "text": [
      "KS test P-value: 0.9081931967906852\n"
     ]
    }
   ],
   "source": [
    "#Pick random permutation test and do the KS test with the original jaccard correlation scores\n",
    "print(\"KS test P-value: \" + str(stats.ks_2samp(np.squeeze(current_jaccard_corr_df.values), \n",
    "                                               np.squeeze(jaccard_corr_df.values))[1]))"
   ]
  },
  {
   "cell_type": "markdown",
   "id": "cd5d5083",
   "metadata": {},
   "source": [
    "# Nonzero Values in Target and Transcript Vectors"
   ]
  },
  {
   "cell_type": "code",
   "execution_count": 33,
   "id": "1c9345f0",
   "metadata": {},
   "outputs": [
    {
     "data": {
      "image/png": "[encoded data removed]",
      "text/plain": [
       "<Figure size 432x288 with 1 Axes>"
      ]
     },
     "metadata": {
      "needs_background": "light"
     },
     "output_type": "display_data"
    },
    {
     "data": {
      "image/png": "[encoded data removed]",
      "text/plain": [
       "<Figure size 1200x800 with 1 Axes>"
      ]
     },
     "metadata": {
      "needs_background": "light"
     },
     "output_type": "display_data"
    }
   ],
   "source": [
    "from matplotlib import pyplot as plt\n",
    "#Set initial variables\n",
    "num_nonzero_targets = []\n",
    "num_nonzero_transcript = []\n",
    "\n",
    "#Get number of nonzero targets and transcripts for each drug\n",
    "for drug in targets_df.index.values:\n",
    "    num_nonzero_targets.append(len(np.nonzero(np.array(targets_df.loc[drug, :]))[0]))\n",
    "    num_nonzero_transcript.append(len(np.nonzero(np.array(transcriptomic_responses_df.loc[drug, :]))[0]))\n",
    "    \n",
    "plt.hist(num_nonzero_targets, bins = 30)\n",
    "plt.title(\"Number of Nonzero Targets for Each Drug\")\n",
    "plt.show()\n",
    "\n",
    "plt.figure(dpi=200)\n",
    "sns.kdeplot(num_nonzero_transcript, shade=True)\n",
    "#plt.hist(num_nonzero_transcript, bins = 30)\n",
    "plt.xlabel('Number of Differentially Expressed Genes')\n",
    "plt.savefig('../figures/supplementary_figure_2.png',bbox_inches='tight')\n",
    "plt.show()"
   ]
  },
  {
   "cell_type": "markdown",
   "id": "d64b1196",
   "metadata": {},
   "source": [
    "# Get percentage of the transcriptomic values that match the nonzero target values"
   ]
  },
  {
   "cell_type": "code",
   "execution_count": 34,
   "id": "f3ef5471",
   "metadata": {},
   "outputs": [],
   "source": [
    "#Set initial variables\n",
    "all_corr_values = []\n",
    "pearson_corr = []\n",
    "cosine_corr = []\n",
    "jaccard_corr = []\n",
    "\n",
    "#Get percentage of transcriptomic values that match the nonzero target values\n",
    "for drug in targets_df.index.values:\n",
    "    num_nonzero_targets = (len(np.nonzero(np.array(targets_df.loc[drug, :]))[0]))\n",
    "    if num_nonzero_targets != 0:\n",
    "        \n",
    "        #Get nonzero target indexes\n",
    "        old_target_vector = np.array(targets_df.loc[drug, :])\n",
    "        old_transcriptomic_vector = np.array(transcriptomic_responses_df.loc[drug, :])\n",
    "        nonzero_indexes = np.nonzero(old_target_vector)[0]\n",
    "        nonzero_list_1 = [old_target_vector[i] for i in nonzero_indexes]\n",
    "        nonzero_list_2 = [old_transcriptomic_vector[i] for i in nonzero_indexes]\n",
    "    \n",
    "        #Get nonzero target values and corresponding transcriptomic values\n",
    "        target_vector = np.array(nonzero_list_1)\n",
    "        transcriptomic_vector = np.array(nonzero_list_2)\n",
    "        \n",
    "        #Get percentage of transcriptomic values that match the nonzero target values\n",
    "        corr_val = np.nansum(abs(np.sign(np.array(target_vector) - np.array(transcriptomic_vector)))-np.ones(len(nonzero_indexes)))\\\n",
    "                    /len(nonzero_indexes)\n",
    "        all_corr_values.append(abs(corr_val))\n",
    "        num_nonzero_transcript = (len(np.nonzero(np.array(transcriptomic_responses_df.loc[drug, :]))[0]))\n",
    "        \n",
    "        #Get pearson, cosine, and jaccard correlation values for the nonzero target values and corresponding\n",
    "        #transcriptomic values\n",
    "        if len(nonzero_list_1) >= 2:\n",
    "            pearson_corr.append(pearsonr(nonzero_list_1, nonzero_list_2)[0])\n",
    "        jaccard_corr.append(1 - jaccard(nonzero_list_1, nonzero_list_2))\n",
    "        "
   ]
  },
  {
   "cell_type": "code",
   "execution_count": 35,
   "id": "7f7d5224",
   "metadata": {},
   "outputs": [
    {
     "data": {
      "image/png": "[encoded data removed]",
      "text/plain": [
       "<Figure size 432x288 with 1 Axes>"
      ]
     },
     "metadata": {
      "needs_background": "light"
     },
     "output_type": "display_data"
    }
   ],
   "source": [
    "#Plot percentage of transcriptomic values that match the nonzero target values\n",
    "plt.hist(all_corr_values, bins=30)\n",
    "plt.title(\"Percentage of transcriptomic values that match the nonzero target values\")\n",
    "plt.show()"
   ]
  },
  {
   "cell_type": "markdown",
   "id": "3a73dd6a",
   "metadata": {},
   "source": [
    "# Clustering Proteins and Drugs"
   ]
  },
  {
   "cell_type": "markdown",
   "id": "29e47597",
   "metadata": {},
   "source": [
    "### Get protein Correlation Scores"
   ]
  },
  {
   "cell_type": "code",
   "execution_count": 36,
   "id": "60e35cfd",
   "metadata": {},
   "outputs": [],
   "source": [
    "def get_pearson_corr_proteins(\n",
    "    target_matrix: pd.DataFrame,\n",
    "    transcriptomic_matrix: pd.DataFrame,\n",
    "):\n",
    "    \"\"\"Get Pearson correlation for each drug.\"\"\"\n",
    "    correlation_matrix = []\n",
    "    \n",
    "    for protein in tqdm(target_matrix.columns):\n",
    "        target_vector = target_matrix[protein]\n",
    "        transcriptomic_vector = transcriptomic_matrix[protein]\n",
    "        corr_val, p_val = pearsonr(target_vector, transcriptomic_vector)\n",
    "        correlation_matrix.append(\n",
    "            {\n",
    "                'protein': protein,\n",
    "                'pearson_correlation': corr_val\n",
    "            }\n",
    "        )\n",
    "    \n",
    "    correlation_df = pd.DataFrame(correlation_matrix)\n",
    "    correlation_df.set_index('protein', inplace=True)\n",
    "    return correlation_df"
   ]
  },
  {
   "cell_type": "code",
   "execution_count": 37,
   "id": "b689731d",
   "metadata": {},
   "outputs": [
    {
     "name": "stderr",
     "output_type": "stream",
     "text": [
      "100%|█████████████████████████████████████| 4938/4938 [00:00<00:00, 8864.79it/s]\n"
     ]
    },
    {
     "data": {
      "image/png": "[encoded data removed]",
      "text/plain": [
       "<Figure size 432x288 with 1 Axes>"
      ]
     },
     "metadata": {
      "needs_background": "light"
     },
     "output_type": "display_data"
    }
   ],
   "source": [
    "protein_correlation_df = get_pearson_corr_proteins(targets_df, transcriptomic_responses_df)\n",
    "sns.distplot(protein_correlation_df.values)\n",
    "protein_correlation_df['protein_uniprot'] = protein_correlation_df.index.values\n",
    "plt.title('Pearson correlation scores for proteins')\n",
    "plt.show()"
   ]
  },
  {
   "cell_type": "code",
   "execution_count": 38,
   "id": "b11993ac",
   "metadata": {},
   "outputs": [
    {
     "name": "stdout",
     "output_type": "stream",
     "text": [
      "180591 102312\n",
      "Number of Unmapped proteins from table 1: 76\n",
      "Number of proteins in table 1: 4938\n"
     ]
    }
   ],
   "source": [
    "#Get map from HGNC symbols to NCBI genes\n",
    "map_df= pd.read_csv('../data/Protein_mappings/proteins.tsv', sep='\\t', header=None)\n",
    "map_df = map_df.rename({0: 'NCBI', 2:'HGNC'}, axis=1)\n",
    "map_df.head()\n",
    "\n",
    "map_keys = list(map_df['HGNC'])\n",
    "map_values = list(map_df['NCBI'])\n",
    "map_dict = {map_keys[i]: map_values[i] for i in range(len(map_keys))}\n",
    "\n",
    "#Get 1st map to map proteins to NCBI Codes\n",
    "map_uniprot_df = pd.read_csv('../data/Protein_mappings/proteins_uniprot.tsv', sep='\\t', header=None)\n",
    "map_uniprot_df = map_uniprot_df.rename({0: 'code', 1:'NCBI'}, axis=1)\n",
    "map_uniprot_df.head()\n",
    "\n",
    "map_uniprot_keys = list(map_uniprot_df['NCBI'])\n",
    "print(len(map_uniprot_keys), len(np.unique(map_uniprot_keys)))\n",
    "map_uniprot_values = list(map_uniprot_df['code'])\n",
    "map_uniprot_dict = {map_uniprot_keys[i]: map_uniprot_values[i] for i in range(len(map_uniprot_keys))}\n",
    "\n",
    "#Create function that maps the protein to HGNC symbols\n",
    "def dict_func(x):\n",
    "    try:\n",
    "        result = map_uniprot_dict[map_dict[x]]\n",
    "    except:\n",
    "        result = 'None'\n",
    "    return result\n",
    "\n",
    "#Convert protein codes to uniprot codes\n",
    "protein_correlation_df['protein_uniprot'] = protein_correlation_df['protein_uniprot'].map(lambda x: dict_func(x))\n",
    "protein_correlation_df['protein_uniprot'] = protein_correlation_df['protein_uniprot'].map\\\n",
    "                                            (lambda x: x.split(':')[1] if x != 'None' else x)\n",
    "print(\"Number of Unmapped proteins from table 1: \" + str(list(protein_correlation_df['protein_uniprot']).count('None')))\n",
    "print(\"Number of proteins in table 1: \" + str(protein_correlation_df.shape[0]))"
   ]
  },
  {
   "cell_type": "code",
   "execution_count": 39,
   "id": "3d3afb8b",
   "metadata": {},
   "outputs": [],
   "source": [
    "protein_correlation_df.nlargest(20, 'pearson_correlation')\n",
    "\n",
    "protein_correlation_df.to_csv(r'../data/Protein_mappings/protein_uniprot_codes.csv')"
   ]
  },
  {
   "cell_type": "markdown",
   "id": "769aab88",
   "metadata": {},
   "source": [
    "### Plot Protein Class Against Correlation Scores"
   ]
  },
  {
   "cell_type": "code",
   "execution_count": 40,
   "id": "d7ebc799",
   "metadata": {},
   "outputs": [],
   "source": [
    "def get_protein_class(uniprot_code):\n",
    "    \"\"\" Get protein class if the protein is an enzyme.\n",
    "    If the protein is not an enzyme return 0\"\"\"\n",
    "    try:\n",
    "        return protein_classes.loc[uniprot_code,'EC number'].split('.')[0]\n",
    "    except:\n",
    "        return 0\n",
    "    \n",
    "def get_protein_mass(uniprot_code):\n",
    "    \"\"\"Get the protein mass\"\"\"\n",
    "    try:\n",
    "        return float(protein_classes.loc[uniprot_code,'Mass'].replace(',',''))\n",
    "    except:\n",
    "        return 0"
   ]
  },
  {
   "cell_type": "code",
   "execution_count": 41,
   "id": "fe244e48",
   "metadata": {},
   "outputs": [
    {
     "data": {
      "image/png": "[encoded data removed]",
      "text/plain": [
       "<Figure size 432x288 with 1 Axes>"
      ]
     },
     "metadata": {
      "needs_background": "light"
     },
     "output_type": "display_data"
    },
    {
     "data": {
      "image/png": "[encoded data removed]",
      "text/plain": [
       "<Figure size 432x288 with 1 Axes>"
      ]
     },
     "metadata": {
      "needs_background": "light"
     },
     "output_type": "display_data"
    }
   ],
   "source": [
    "#Set initial variables\n",
    "protein_classes = pd.read_csv('../data/Protein_classes/protein_classes.csv')\n",
    "protein_classes = protein_classes.set_index('Entry')\n",
    "\n",
    "#Add protein mass and class to the data frame\n",
    "protein_correlation_df['protein_class'] = protein_correlation_df['protein_uniprot']\\\n",
    "                                            .map(lambda x: get_protein_class(x))\n",
    "protein_correlation_df['mass'] = protein_correlation_df['protein_uniprot']\\\n",
    "                                            .map(lambda x: get_protein_mass(x))\n",
    "protein_correlation_df['pearson_correlation'] = protein_correlation_df['pearson_correlation']\\\n",
    "                                                .map(lambda x: x if not pd.isna(x) else 0)\n",
    "\n",
    "#Plot protein class vs. pearson correlation\n",
    "plt.scatter(protein_correlation_df['pearson_correlation'], protein_correlation_df['protein_class'],\\\n",
    "            label = 'Pearson Correlation: ' + str(pearsonr(protein_correlation_df['pearson_correlation'],\\\n",
    "                                                           protein_correlation_df['protein_class'])[0]))\n",
    "plt.title(\"Protein Class vs Correlation\")\n",
    "plt.xlabel('Pearson Correlation')\n",
    "plt.ylabel('Protein Class')\n",
    "plt.legend()\n",
    "plt.show()\n",
    "\n",
    "#Plot protein mass vs. pearson correlation\n",
    "plt.scatter(protein_correlation_df['pearson_correlation'], protein_correlation_df['mass'], \\\n",
    "           label = 'Pearson Correlation: ' + str(pearsonr(protein_correlation_df['pearson_correlation'],\\\n",
    "                                                           protein_correlation_df['mass'])[0]))\n",
    "plt.title(\"Protein Mass vs Correlation\")\n",
    "plt.xlabel('Pearson Correlation')\n",
    "plt.ylabel('Protein Mass')\n",
    "plt.legend()\n",
    "plt.show()\n"
   ]
  }
 ],
 "metadata": {
  "kernelspec": {
   "display_name": "chempert_env",
   "language": "python",
   "name": "chempert_env"
  },
  "language_info": {
   "codemirror_mode": {
    "name": "ipython",
    "version": 3
   },
   "file_extension": ".py",
   "mimetype": "text/x-python",
   "name": "python",
   "nbconvert_exporter": "python",
   "pygments_lexer": "ipython3",
   "version": "3.9.7"
  }
 },
 "nbformat": 4,
 "nbformat_minor": 5
}
