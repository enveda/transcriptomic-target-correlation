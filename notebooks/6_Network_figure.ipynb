{
 "cells": [
  {
   "cell_type": "code",
   "execution_count": 1,
   "metadata": {},
   "outputs": [],
   "source": [
    "from viz import render_bel_with_igraph\n",
    "import pandas as pd\n",
    "import numpy as np\n",
    "from tqdm import tqdm"
   ]
  },
  {
   "cell_type": "markdown",
   "metadata": {},
   "source": [
    "# Get target and transcriptomic vectors"
   ]
  },
  {
   "cell_type": "code",
   "execution_count": 2,
   "metadata": {},
   "outputs": [
    {
     "data": {
      "text/plain": [
       "(2152, 4938)"
      ]
     },
     "execution_count": 2,
     "metadata": {},
     "output_type": "execute_result"
    }
   ],
   "source": [
    "transcriptomic_responses_df = pd.read_csv(\n",
    "    '../data/Transcriptional_data_frames/transcriptional_response_vectors.tsv',\n",
    "    sep='\\t',\n",
    "    index_col=0,\n",
    ")\n",
    "transcriptomic_responses_df.head(4)\n",
    "transcriptomic_responses_df.shape\n"
   ]
  },
  {
   "cell_type": "code",
   "execution_count": 3,
   "metadata": {},
   "outputs": [
    {
     "data": {
      "text/html": [
       "<div>\n",
       "<style scoped>\n",
       "    .dataframe tbody tr th:only-of-type {\n",
       "        vertical-align: middle;\n",
       "    }\n",
       "\n",
       "    .dataframe tbody tr th {\n",
       "        vertical-align: top;\n",
       "    }\n",
       "\n",
       "    .dataframe thead th {\n",
       "        text-align: right;\n",
       "    }\n",
       "</style>\n",
       "<table border=\"1\" class=\"dataframe\">\n",
       "  <thead>\n",
       "    <tr style=\"text-align: right;\">\n",
       "      <th></th>\n",
       "      <th>AAAS</th>\n",
       "      <th>AADAC</th>\n",
       "      <th>AADACL2</th>\n",
       "      <th>AADAT</th>\n",
       "      <th>AASS</th>\n",
       "      <th>AATF</th>\n",
       "      <th>ABAT</th>\n",
       "      <th>ABCA1</th>\n",
       "      <th>ABCB1</th>\n",
       "      <th>ABCB11</th>\n",
       "      <th>...</th>\n",
       "      <th>ZSCAN32</th>\n",
       "      <th>ZSCAN4</th>\n",
       "      <th>ZSCAN5A</th>\n",
       "      <th>ZSCAN5B</th>\n",
       "      <th>ZSCAN5DP</th>\n",
       "      <th>ZSCAN9</th>\n",
       "      <th>ZXDA</th>\n",
       "      <th>ZXDB</th>\n",
       "      <th>ZXDC</th>\n",
       "      <th>ZZZ3</th>\n",
       "    </tr>\n",
       "  </thead>\n",
       "  <tbody>\n",
       "    <tr>\n",
       "      <th>CID00001</th>\n",
       "      <td>0</td>\n",
       "      <td>0</td>\n",
       "      <td>0</td>\n",
       "      <td>0</td>\n",
       "      <td>0</td>\n",
       "      <td>1</td>\n",
       "      <td>0</td>\n",
       "      <td>0</td>\n",
       "      <td>0</td>\n",
       "      <td>0</td>\n",
       "      <td>...</td>\n",
       "      <td>0</td>\n",
       "      <td>0</td>\n",
       "      <td>0</td>\n",
       "      <td>0</td>\n",
       "      <td>0</td>\n",
       "      <td>-1</td>\n",
       "      <td>0</td>\n",
       "      <td>0</td>\n",
       "      <td>0</td>\n",
       "      <td>-1</td>\n",
       "    </tr>\n",
       "  </tbody>\n",
       "</table>\n",
       "<p>1 rows × 4938 columns</p>\n",
       "</div>"
      ],
      "text/plain": [
       "          AAAS  AADAC  AADACL2  AADAT  AASS  AATF  ABAT  ABCA1  ABCB1  ABCB11  \\\n",
       "CID00001     0      0        0      0     0     1     0      0      0       0   \n",
       "\n",
       "          ...  ZSCAN32  ZSCAN4  ZSCAN5A  ZSCAN5B  ZSCAN5DP  ZSCAN9  ZXDA  \\\n",
       "CID00001  ...        0       0        0        0         0      -1     0   \n",
       "\n",
       "          ZXDB  ZXDC  ZZZ3  \n",
       "CID00001     0     0    -1  \n",
       "\n",
       "[1 rows x 4938 columns]"
      ]
     },
     "execution_count": 3,
     "metadata": {},
     "output_type": "execute_result"
    }
   ],
   "source": [
    "transcriptomic_responses_df.head(1)"
   ]
  },
  {
   "cell_type": "code",
   "execution_count": 4,
   "metadata": {},
   "outputs": [
    {
     "data": {
      "text/html": [
       "<div>\n",
       "<style scoped>\n",
       "    .dataframe tbody tr th:only-of-type {\n",
       "        vertical-align: middle;\n",
       "    }\n",
       "\n",
       "    .dataframe tbody tr th {\n",
       "        vertical-align: top;\n",
       "    }\n",
       "\n",
       "    .dataframe thead th {\n",
       "        text-align: right;\n",
       "    }\n",
       "</style>\n",
       "<table border=\"1\" class=\"dataframe\">\n",
       "  <thead>\n",
       "    <tr style=\"text-align: right;\">\n",
       "      <th></th>\n",
       "      <th>AAAS</th>\n",
       "      <th>AADAC</th>\n",
       "      <th>AADACL2</th>\n",
       "      <th>AADAT</th>\n",
       "      <th>AASS</th>\n",
       "      <th>AATF</th>\n",
       "      <th>ABAT</th>\n",
       "      <th>ABCA1</th>\n",
       "      <th>ABCB1</th>\n",
       "      <th>ABCB11</th>\n",
       "      <th>...</th>\n",
       "      <th>ZSCAN32</th>\n",
       "      <th>ZSCAN4</th>\n",
       "      <th>ZSCAN5A</th>\n",
       "      <th>ZSCAN5B</th>\n",
       "      <th>ZSCAN5DP</th>\n",
       "      <th>ZSCAN9</th>\n",
       "      <th>ZXDA</th>\n",
       "      <th>ZXDB</th>\n",
       "      <th>ZXDC</th>\n",
       "      <th>ZZZ3</th>\n",
       "    </tr>\n",
       "  </thead>\n",
       "  <tbody>\n",
       "    <tr>\n",
       "      <th>CID00001</th>\n",
       "      <td>0</td>\n",
       "      <td>0</td>\n",
       "      <td>0</td>\n",
       "      <td>0</td>\n",
       "      <td>0</td>\n",
       "      <td>0</td>\n",
       "      <td>0</td>\n",
       "      <td>0</td>\n",
       "      <td>0</td>\n",
       "      <td>0</td>\n",
       "      <td>...</td>\n",
       "      <td>0</td>\n",
       "      <td>0</td>\n",
       "      <td>0</td>\n",
       "      <td>0</td>\n",
       "      <td>0</td>\n",
       "      <td>0</td>\n",
       "      <td>0</td>\n",
       "      <td>0</td>\n",
       "      <td>0</td>\n",
       "      <td>0</td>\n",
       "    </tr>\n",
       "    <tr>\n",
       "      <th>CID00002</th>\n",
       "      <td>0</td>\n",
       "      <td>0</td>\n",
       "      <td>0</td>\n",
       "      <td>0</td>\n",
       "      <td>0</td>\n",
       "      <td>0</td>\n",
       "      <td>0</td>\n",
       "      <td>0</td>\n",
       "      <td>0</td>\n",
       "      <td>0</td>\n",
       "      <td>...</td>\n",
       "      <td>0</td>\n",
       "      <td>0</td>\n",
       "      <td>0</td>\n",
       "      <td>0</td>\n",
       "      <td>0</td>\n",
       "      <td>0</td>\n",
       "      <td>0</td>\n",
       "      <td>0</td>\n",
       "      <td>0</td>\n",
       "      <td>0</td>\n",
       "    </tr>\n",
       "    <tr>\n",
       "      <th>CID00006</th>\n",
       "      <td>0</td>\n",
       "      <td>0</td>\n",
       "      <td>0</td>\n",
       "      <td>0</td>\n",
       "      <td>0</td>\n",
       "      <td>0</td>\n",
       "      <td>0</td>\n",
       "      <td>0</td>\n",
       "      <td>0</td>\n",
       "      <td>0</td>\n",
       "      <td>...</td>\n",
       "      <td>0</td>\n",
       "      <td>0</td>\n",
       "      <td>0</td>\n",
       "      <td>0</td>\n",
       "      <td>0</td>\n",
       "      <td>0</td>\n",
       "      <td>0</td>\n",
       "      <td>0</td>\n",
       "      <td>0</td>\n",
       "      <td>0</td>\n",
       "    </tr>\n",
       "    <tr>\n",
       "      <th>CID00007</th>\n",
       "      <td>0</td>\n",
       "      <td>0</td>\n",
       "      <td>0</td>\n",
       "      <td>0</td>\n",
       "      <td>0</td>\n",
       "      <td>0</td>\n",
       "      <td>0</td>\n",
       "      <td>0</td>\n",
       "      <td>0</td>\n",
       "      <td>0</td>\n",
       "      <td>...</td>\n",
       "      <td>0</td>\n",
       "      <td>0</td>\n",
       "      <td>0</td>\n",
       "      <td>0</td>\n",
       "      <td>0</td>\n",
       "      <td>0</td>\n",
       "      <td>0</td>\n",
       "      <td>0</td>\n",
       "      <td>0</td>\n",
       "      <td>0</td>\n",
       "    </tr>\n",
       "    <tr>\n",
       "      <th>CID00009</th>\n",
       "      <td>0</td>\n",
       "      <td>0</td>\n",
       "      <td>0</td>\n",
       "      <td>0</td>\n",
       "      <td>0</td>\n",
       "      <td>0</td>\n",
       "      <td>0</td>\n",
       "      <td>0</td>\n",
       "      <td>0</td>\n",
       "      <td>0</td>\n",
       "      <td>...</td>\n",
       "      <td>0</td>\n",
       "      <td>0</td>\n",
       "      <td>0</td>\n",
       "      <td>0</td>\n",
       "      <td>0</td>\n",
       "      <td>0</td>\n",
       "      <td>0</td>\n",
       "      <td>0</td>\n",
       "      <td>0</td>\n",
       "      <td>0</td>\n",
       "    </tr>\n",
       "  </tbody>\n",
       "</table>\n",
       "<p>5 rows × 4938 columns</p>\n",
       "</div>"
      ],
      "text/plain": [
       "          AAAS  AADAC  AADACL2  AADAT  AASS  AATF  ABAT  ABCA1  ABCB1  ABCB11  \\\n",
       "CID00001     0      0        0      0     0     0     0      0      0       0   \n",
       "CID00002     0      0        0      0     0     0     0      0      0       0   \n",
       "CID00006     0      0        0      0     0     0     0      0      0       0   \n",
       "CID00007     0      0        0      0     0     0     0      0      0       0   \n",
       "CID00009     0      0        0      0     0     0     0      0      0       0   \n",
       "\n",
       "          ...  ZSCAN32  ZSCAN4  ZSCAN5A  ZSCAN5B  ZSCAN5DP  ZSCAN9  ZXDA  \\\n",
       "CID00001  ...        0       0        0        0         0       0     0   \n",
       "CID00002  ...        0       0        0        0         0       0     0   \n",
       "CID00006  ...        0       0        0        0         0       0     0   \n",
       "CID00007  ...        0       0        0        0         0       0     0   \n",
       "CID00009  ...        0       0        0        0         0       0     0   \n",
       "\n",
       "          ZXDB  ZXDC  ZZZ3  \n",
       "CID00001     0     0     0  \n",
       "CID00002     0     0     0  \n",
       "CID00006     0     0     0  \n",
       "CID00007     0     0     0  \n",
       "CID00009     0     0     0  \n",
       "\n",
       "[5 rows x 4938 columns]"
      ]
     },
     "execution_count": 4,
     "metadata": {},
     "output_type": "execute_result"
    }
   ],
   "source": [
    "targets_df = pd.read_csv(\n",
    "    '../data/target_data_frames/target_vectors_Chempert.tsv',\n",
    "    sep='\\t',\n",
    "    index_col=0,\n",
    ")\n",
    "targets_df.head()"
   ]
  },
  {
   "cell_type": "markdown",
   "metadata": {},
   "source": [
    "# Get DEGs for each compound"
   ]
  },
  {
   "cell_type": "code",
   "execution_count": 5,
   "metadata": {},
   "outputs": [],
   "source": [
    "compound_1 = 'CID00374'\n",
    "compound_2 = 'CID01756'"
   ]
  },
  {
   "cell_type": "code",
   "execution_count": 6,
   "metadata": {},
   "outputs": [],
   "source": [
    "transcript_1 = transcriptomic_responses_df.loc[compound_1]\n",
    "transcript_2 = transcriptomic_responses_df.loc[compound_2]\n",
    "target_1 = targets_df.loc[compound_1]\n",
    "target_2 = targets_df.loc[compound_2]"
   ]
  },
  {
   "cell_type": "code",
   "execution_count": 7,
   "metadata": {},
   "outputs": [],
   "source": [
    "all_genes = set(np.nonzero(list(transcript_1))[0]).union(set(np.nonzero(list(transcript_2))[0]))\n",
    "all_genes = set(all_genes).union(np.nonzero(list(target_1))[0])\n",
    "all_genes = set(all_genes).union(np.nonzero(list(target_2))[0])\n",
    "all_gene_names = [transcriptomic_responses_df.columns[i] for i in all_genes]"
   ]
  },
  {
   "cell_type": "markdown",
   "metadata": {},
   "source": [
    "# Create dictionary of gene categories"
   ]
  },
  {
   "cell_type": "code",
   "execution_count": 8,
   "metadata": {},
   "outputs": [
    {
     "name": "stderr",
     "output_type": "stream",
     "text": [
      "100%|██████████| 829/829 [00:00<00:00, 61207.54it/s]\n"
     ]
    }
   ],
   "source": [
    "node_categories = {}\n",
    "\n",
    "for gene in tqdm(all_genes):\n",
    "    gene_names = transcriptomic_responses_df.columns\n",
    "    if target_1[gene] != 0 or target_2[gene] != 0:\n",
    "        node_categories[gene_names[gene]] = 'target'\n",
    "    elif transcript_1[gene] != 0 and transcript_2[gene] != 0:\n",
    "        if transcript_1[gene] == transcript_2[gene]:\n",
    "            node_categories[gene_names[gene]] = 'matching'\n",
    "        else:\n",
    "            node_categories[gene_names[gene]] = 'non_matching'\n",
    "    elif transcript_1[gene] != 0:\n",
    "            node_categories[gene_names[gene]] = 'present_in_1_but_not_in_2'\n",
    "    elif transcript_2[gene] != 0:\n",
    "            node_categories[gene_names[gene]] = 'present_in_2_but_not_in_1'"
   ]
  },
  {
   "cell_type": "markdown",
   "metadata": {},
   "source": [
    "# Create data frame that only includes our DEGs"
   ]
  },
  {
   "cell_type": "code",
   "execution_count": 9,
   "metadata": {},
   "outputs": [
    {
     "data": {
      "text/plain": [
       "(27047, 4)"
      ]
     },
     "execution_count": 9,
     "metadata": {},
     "output_type": "execute_result"
    }
   ],
   "source": [
    "df = pd.read_csv('../data/Protein_pathways/Kegg_network.tsv', sep='\\t')\n",
    "\n",
    "df = df.loc[df['source_database'].apply(lambda x: x == 'KEGG')]\n",
    "df['source'] = ['hgnc:' + x.split(':')[1] for x in df['source']]\n",
    "df['target'] = ['hgnc:' + x.split(':')[1] for x in df['target']]\n",
    "\n",
    "#Get 1st map to map hgnc numbers to NCBI Codes\n",
    "map_1_df = pd.read_csv('../data/Protein_mappings/proteins_uniprot.tsv', sep='\\t', header=None)\n",
    "map_1_df = map_1_df.rename({0: 'code', 1:'NCBI'}, axis=1)\n",
    "map_1_keys = list(map_1_df['code'])\n",
    "map_1_values = list(map_1_df['NCBI'])\n",
    "map_1_dict = {map_1_keys[i]: map_1_values[i] for i in range(len(map_1_keys))}\n",
    "\n",
    "#Get 2nd map to map NCBI codes to HGNC symbols\n",
    "map_2_df = pd.read_csv('../data/Protein_mappings/proteins.tsv', sep='\\t', header=None)\n",
    "map_2_df = map_2_df.rename({0: 'NCBI', 2:'HGNC'}, axis=1)\n",
    "map_2_keys = list(map_2_df['NCBI'])\n",
    "map_2_values = list(map_2_df['HGNC'])\n",
    "map_2_dict = {map_2_keys[i]: map_2_values[i] for i in range(len(map_2_keys))}\n",
    "\n",
    "def dict_func(x):\n",
    "    try:\n",
    "        result = map_2_dict[map_1_dict[x]]\n",
    "    except:\n",
    "        result = 'None'\n",
    "    return result\n",
    "\n",
    "#Convert directional relationships table to HGNC symbols\n",
    "df['source'] = df['source'].map(lambda x: dict_func(x))\n",
    "df['target'] = df['target'].map(lambda x: dict_func(x))\n",
    "df.shape"
   ]
  },
  {
   "cell_type": "code",
   "execution_count": 10,
   "metadata": {},
   "outputs": [
    {
     "name": "stderr",
     "output_type": "stream",
     "text": [
      "100%|██████████| 27047/27047 [00:34<00:00, 776.38it/s] \n"
     ]
    }
   ],
   "source": [
    "for index in tqdm(df.index.values):\n",
    "    if df.loc[index,'source'] not in all_gene_names or df.loc[index,'target'] not in all_gene_names:\n",
    "        df = df.drop(index, axis=0)"
   ]
  },
  {
   "cell_type": "code",
   "execution_count": 11,
   "metadata": {},
   "outputs": [],
   "source": [
    "render_bel_with_igraph('../figures/figure_5.png', node_categories, all_gene_names, df)"
   ]
  },
  {
   "cell_type": "code",
   "execution_count": null,
   "metadata": {},
   "outputs": [],
   "source": []
  }
 ],
 "metadata": {
  "kernelspec": {
   "display_name": "Python 3",
   "language": "python",
   "name": "python3"
  },
  "language_info": {
   "codemirror_mode": {
    "name": "ipython",
    "version": 3
   },
   "file_extension": ".py",
   "mimetype": "text/x-python",
   "name": "python",
   "nbconvert_exporter": "python",
   "pygments_lexer": "ipython3",
   "version": "3.8.3"
  }
 },
 "nbformat": 4,
 "nbformat_minor": 5
}
