{
 "cells": [
  {
   "cell_type": "code",
   "execution_count": 1,
   "id": "f2352291",
   "metadata": {
    "ExecuteTime": {
     "end_time": "2023-04-17T09:16:04.426175Z",
     "start_time": "2023-04-17T09:16:04.397623Z"
    }
   },
   "outputs": [],
   "source": [
    "import getpass\n",
    "import sys\n",
    "import time\n",
    "from collections import defaultdict\n",
    "\n",
    "import pandas as pd\n",
    "from scipy import stats\n",
    "import numpy as np\n",
    "from tqdm import tqdm\n"
   ]
  },
  {
   "cell_type": "code",
   "execution_count": 2,
   "id": "1fa21340",
   "metadata": {},
   "outputs": [
    {
     "data": {
      "text/plain": [
       "'danieldomingo'"
      ]
     },
     "execution_count": 2,
     "metadata": {},
     "output_type": "execute_result"
    }
   ],
   "source": [
    "getpass.getuser()"
   ]
  },
  {
   "cell_type": "code",
   "execution_count": 3,
   "id": "6887b5c4",
   "metadata": {},
   "outputs": [
    {
     "data": {
      "text/plain": [
       "'3.8.16 (default, Mar  1 2023, 21:19:10) \\n[Clang 14.0.6 ]'"
      ]
     },
     "execution_count": 3,
     "metadata": {},
     "output_type": "execute_result"
    }
   ],
   "source": [
    "sys.version"
   ]
  },
  {
   "cell_type": "code",
   "execution_count": 4,
   "id": "87a8fbbe",
   "metadata": {},
   "outputs": [
    {
     "data": {
      "text/plain": [
       "'Mon Apr 17 14:20:36 2023'"
      ]
     },
     "execution_count": 4,
     "metadata": {},
     "output_type": "execute_result"
    }
   ],
   "source": [
    "time.asctime()"
   ]
  },
  {
   "cell_type": "markdown",
   "id": "ac796bff",
   "metadata": {},
   "source": [
    "# Get transcriptomic and target vectors"
   ]
  },
  {
   "cell_type": "code",
   "execution_count": 5,
   "id": "57f5209f",
   "metadata": {
    "ExecuteTime": {
     "end_time": "2023-04-17T09:16:15.000438Z",
     "start_time": "2023-04-17T09:16:04.446813Z"
    }
   },
   "outputs": [],
   "source": [
    "transcriptomic_responses_df = pd.read_csv(\n",
    "    '../data/Transcriptional_data_frames/transcriptional_response_vectors_cell_line.tsv',\n",
    "    sep='\\t',\n",
    "    index_col=0,\n",
    ")"
   ]
  },
  {
   "cell_type": "code",
   "execution_count": 6,
   "id": "44a84780",
   "metadata": {},
   "outputs": [
    {
     "data": {
      "text/html": [
       "<div>\n",
       "<style scoped>\n",
       "    .dataframe tbody tr th:only-of-type {\n",
       "        vertical-align: middle;\n",
       "    }\n",
       "\n",
       "    .dataframe tbody tr th {\n",
       "        vertical-align: top;\n",
       "    }\n",
       "\n",
       "    .dataframe thead th {\n",
       "        text-align: right;\n",
       "    }\n",
       "</style>\n",
       "<table border=\"1\" class=\"dataframe\">\n",
       "  <thead>\n",
       "    <tr style=\"text-align: right;\">\n",
       "      <th></th>\n",
       "      <th>AAAS</th>\n",
       "      <th>AADAC</th>\n",
       "      <th>AADACL2</th>\n",
       "      <th>AADAT</th>\n",
       "      <th>AASS</th>\n",
       "      <th>AATF</th>\n",
       "      <th>ABAT</th>\n",
       "      <th>ABCA1</th>\n",
       "      <th>ABCB1</th>\n",
       "      <th>ABCB11</th>\n",
       "      <th>...</th>\n",
       "      <th>ZSCAN32</th>\n",
       "      <th>ZSCAN4</th>\n",
       "      <th>ZSCAN5A</th>\n",
       "      <th>ZSCAN5B</th>\n",
       "      <th>ZSCAN5DP</th>\n",
       "      <th>ZSCAN9</th>\n",
       "      <th>ZXDA</th>\n",
       "      <th>ZXDB</th>\n",
       "      <th>ZXDC</th>\n",
       "      <th>ZZZ3</th>\n",
       "    </tr>\n",
       "  </thead>\n",
       "  <tbody>\n",
       "    <tr>\n",
       "      <th>CID00001_HA1E</th>\n",
       "      <td>0</td>\n",
       "      <td>0</td>\n",
       "      <td>0</td>\n",
       "      <td>0</td>\n",
       "      <td>0</td>\n",
       "      <td>1</td>\n",
       "      <td>0</td>\n",
       "      <td>0</td>\n",
       "      <td>0</td>\n",
       "      <td>0</td>\n",
       "      <td>...</td>\n",
       "      <td>0</td>\n",
       "      <td>0</td>\n",
       "      <td>0</td>\n",
       "      <td>0</td>\n",
       "      <td>0</td>\n",
       "      <td>-1</td>\n",
       "      <td>0</td>\n",
       "      <td>0</td>\n",
       "      <td>0</td>\n",
       "      <td>-1</td>\n",
       "    </tr>\n",
       "  </tbody>\n",
       "</table>\n",
       "<p>1 rows × 4938 columns</p>\n",
       "</div>"
      ],
      "text/plain": [
       "               AAAS  AADAC  AADACL2  AADAT  AASS  AATF  ABAT  ABCA1  ABCB1  \\\n",
       "CID00001_HA1E     0      0        0      0     0     1     0      0      0   \n",
       "\n",
       "               ABCB11  ...  ZSCAN32  ZSCAN4  ZSCAN5A  ZSCAN5B  ZSCAN5DP  \\\n",
       "CID00001_HA1E       0  ...        0       0        0        0         0   \n",
       "\n",
       "               ZSCAN9  ZXDA  ZXDB  ZXDC  ZZZ3  \n",
       "CID00001_HA1E      -1     0     0     0    -1  \n",
       "\n",
       "[1 rows x 4938 columns]"
      ]
     },
     "execution_count": 6,
     "metadata": {},
     "output_type": "execute_result"
    }
   ],
   "source": [
    "transcriptomic_responses_df.head(1)"
   ]
  },
  {
   "cell_type": "code",
   "execution_count": 7,
   "id": "43d4ba14",
   "metadata": {
    "ExecuteTime": {
     "end_time": "2023-04-17T09:17:47.785973Z",
     "start_time": "2023-04-17T09:16:15.004409Z"
    }
   },
   "outputs": [
    {
     "name": "stderr",
     "output_type": "stream",
     "text": [
      "100%|██████████| 8781/8781 [01:05<00:00, 134.90it/s]\n"
     ]
    }
   ],
   "source": [
    "#Remove transcriptomic responses with less than 100 DEGs\n",
    "for index in tqdm(transcriptomic_responses_df.index.values):\n",
    "    if sum(abs(transcriptomic_responses_df.loc[index])) < 100:\n",
    "        transcriptomic_responses_df = transcriptomic_responses_df.drop(index, axis=0)"
   ]
  },
  {
   "cell_type": "code",
   "execution_count": 8,
   "id": "13021aea",
   "metadata": {
    "ExecuteTime": {
     "end_time": "2023-04-17T09:17:47.843887Z",
     "start_time": "2023-04-17T09:17:47.792272Z"
    }
   },
   "outputs": [
    {
     "data": {
      "text/plain": [
       "'/Users/danieldomingo/Downloads/transcriptomic-target-correlation/notebooks'"
      ]
     },
     "execution_count": 8,
     "metadata": {},
     "output_type": "execute_result"
    }
   ],
   "source": [
    "import os\n",
    "os.getcwd()"
   ]
  },
  {
   "cell_type": "markdown",
   "id": "08517c74",
   "metadata": {},
   "source": [
    "# Get Cell Lines"
   ]
  },
  {
   "cell_type": "code",
   "execution_count": 9,
   "id": "34ac3d26",
   "metadata": {
    "ExecuteTime": {
     "end_time": "2023-04-17T09:20:46.838521Z",
     "start_time": "2023-04-17T09:20:46.635026Z"
    }
   },
   "outputs": [],
   "source": [
    "# In order to get the data for this step download \n",
    "# Information_for_transcriptional_responses.csv from https://chempert.uni.lu/downloads\n",
    "response_metdata_df = pd.read_csv(\n",
    "    '../data/ChemPert_data/Information_for_transcriptional_responses.csv',\n",
    "    usecols=[\n",
    "        'Response_ID',\n",
    "        'Chemical_ID',\n",
    "        'Concentration',\n",
    "        'Cell_Source'\n",
    "    ],\n",
    "    index_col='Response_ID',\n",
    ")"
   ]
  },
  {
   "cell_type": "code",
   "execution_count": 10,
   "metadata": {
    "ExecuteTime": {
     "end_time": "2023-04-17T09:21:27.557822Z",
     "start_time": "2023-04-17T09:21:27.540929Z"
    },
    "collapsed": false
   },
   "outputs": [
    {
     "data": {
      "text/html": [
       "<div>\n",
       "<style scoped>\n",
       "    .dataframe tbody tr th:only-of-type {\n",
       "        vertical-align: middle;\n",
       "    }\n",
       "\n",
       "    .dataframe tbody tr th {\n",
       "        vertical-align: top;\n",
       "    }\n",
       "\n",
       "    .dataframe thead th {\n",
       "        text-align: right;\n",
       "    }\n",
       "</style>\n",
       "<table border=\"1\" class=\"dataframe\">\n",
       "  <thead>\n",
       "    <tr style=\"text-align: right;\">\n",
       "      <th></th>\n",
       "      <th>Chemical_ID</th>\n",
       "      <th>Cell_Source</th>\n",
       "      <th>Concentration</th>\n",
       "    </tr>\n",
       "    <tr>\n",
       "      <th>Response_ID</th>\n",
       "      <th></th>\n",
       "      <th></th>\n",
       "      <th></th>\n",
       "    </tr>\n",
       "  </thead>\n",
       "  <tbody>\n",
       "    <tr>\n",
       "      <th>RID00001</th>\n",
       "      <td>CID01777</td>\n",
       "      <td>Hepatocyte</td>\n",
       "      <td>10uM</td>\n",
       "    </tr>\n",
       "  </tbody>\n",
       "</table>\n",
       "</div>"
      ],
      "text/plain": [
       "            Chemical_ID Cell_Source Concentration\n",
       "Response_ID                                      \n",
       "RID00001       CID01777  Hepatocyte          10uM"
      ]
     },
     "execution_count": 10,
     "metadata": {},
     "output_type": "execute_result"
    }
   ],
   "source": [
    "response_metdata_df.head(1)"
   ]
  },
  {
   "cell_type": "code",
   "execution_count": 11,
   "metadata": {
    "collapsed": false
   },
   "outputs": [],
   "source": [
    "#Get ChemPert target vectors\n",
    "targets_df = pd.read_csv(\n",
    "    '../data/target_data_frames/target_vectors_ChemPert.tsv',\n",
    "    sep='\\t',\n",
    "    index_col=0,\n",
    ")\n"
   ]
  },
  {
   "cell_type": "code",
   "execution_count": 12,
   "metadata": {
    "ExecuteTime": {
     "end_time": "2023-04-17T09:23:41.052612Z",
     "start_time": "2023-04-17T09:23:41.038519Z"
    },
    "collapsed": false
   },
   "outputs": [
    {
     "data": {
      "text/html": [
       "<div>\n",
       "<style scoped>\n",
       "    .dataframe tbody tr th:only-of-type {\n",
       "        vertical-align: middle;\n",
       "    }\n",
       "\n",
       "    .dataframe tbody tr th {\n",
       "        vertical-align: top;\n",
       "    }\n",
       "\n",
       "    .dataframe thead th {\n",
       "        text-align: right;\n",
       "    }\n",
       "</style>\n",
       "<table border=\"1\" class=\"dataframe\">\n",
       "  <thead>\n",
       "    <tr style=\"text-align: right;\">\n",
       "      <th></th>\n",
       "      <th>AAAS</th>\n",
       "      <th>AADAC</th>\n",
       "      <th>AADACL2</th>\n",
       "      <th>AADAT</th>\n",
       "      <th>AASS</th>\n",
       "      <th>AATF</th>\n",
       "      <th>ABAT</th>\n",
       "      <th>ABCA1</th>\n",
       "      <th>ABCB1</th>\n",
       "      <th>ABCB11</th>\n",
       "      <th>...</th>\n",
       "      <th>ZSCAN32</th>\n",
       "      <th>ZSCAN4</th>\n",
       "      <th>ZSCAN5A</th>\n",
       "      <th>ZSCAN5B</th>\n",
       "      <th>ZSCAN5DP</th>\n",
       "      <th>ZSCAN9</th>\n",
       "      <th>ZXDA</th>\n",
       "      <th>ZXDB</th>\n",
       "      <th>ZXDC</th>\n",
       "      <th>ZZZ3</th>\n",
       "    </tr>\n",
       "  </thead>\n",
       "  <tbody>\n",
       "    <tr>\n",
       "      <th>CID00001</th>\n",
       "      <td>0</td>\n",
       "      <td>0</td>\n",
       "      <td>0</td>\n",
       "      <td>0</td>\n",
       "      <td>0</td>\n",
       "      <td>0</td>\n",
       "      <td>0</td>\n",
       "      <td>0</td>\n",
       "      <td>0</td>\n",
       "      <td>0</td>\n",
       "      <td>...</td>\n",
       "      <td>0</td>\n",
       "      <td>0</td>\n",
       "      <td>0</td>\n",
       "      <td>0</td>\n",
       "      <td>0</td>\n",
       "      <td>0</td>\n",
       "      <td>0</td>\n",
       "      <td>0</td>\n",
       "      <td>0</td>\n",
       "      <td>0</td>\n",
       "    </tr>\n",
       "  </tbody>\n",
       "</table>\n",
       "<p>1 rows × 4938 columns</p>\n",
       "</div>"
      ],
      "text/plain": [
       "          AAAS  AADAC  AADACL2  AADAT  AASS  AATF  ABAT  ABCA1  ABCB1  ABCB11  \\\n",
       "CID00001     0      0        0      0     0     0     0      0      0       0   \n",
       "\n",
       "          ...  ZSCAN32  ZSCAN4  ZSCAN5A  ZSCAN5B  ZSCAN5DP  ZSCAN9  ZXDA  \\\n",
       "CID00001  ...        0       0        0        0         0       0     0   \n",
       "\n",
       "          ZXDB  ZXDC  ZZZ3  \n",
       "CID00001     0     0     0  \n",
       "\n",
       "[1 rows x 4938 columns]"
      ]
     },
     "execution_count": 12,
     "metadata": {},
     "output_type": "execute_result"
    }
   ],
   "source": [
    "targets_df.head(1)"
   ]
  },
  {
   "cell_type": "code",
   "execution_count": 13,
   "metadata": {
    "ExecuteTime": {
     "end_time": "2023-04-17T09:21:14.355712Z",
     "start_time": "2023-04-17T09:21:11.230670Z"
    },
    "collapsed": false
   },
   "outputs": [
    {
     "name": "stderr",
     "output_type": "stream",
     "text": [
      "100%|██████████| 2152/2152 [00:04<00:00, 519.85it/s]\n"
     ]
    }
   ],
   "source": [
    "#Create dictionary of cell lines for each drug\n",
    "targets_to_cell_lines_dict = defaultdict(lambda: defaultdict(set))\n",
    "\n",
    "for drug in tqdm(targets_df.index.values):\n",
    "    current_cell_lines = [x.split('_')[1] for x in transcriptomic_responses_df.index.values if x.startswith(drug)]\n",
    "\n",
    "    # Get this row of the target dataframe\n",
    "    current_targets = targets_df.loc[drug]\n",
    "    # Get all the targets that are not 0\n",
    "    current_targets = list(current_targets[current_targets != 0].index)\n",
    "\n",
    "    for target in current_targets:\n",
    "        for cell_line in np.unique(current_cell_lines):\n",
    "            targets_to_cell_lines_dict[target][cell_line].add(drug)\n"
   ]
  },
  {
   "attachments": {},
   "cell_type": "markdown",
   "id": "99538527",
   "metadata": {},
   "source": [
    "Number of unique targets"
   ]
  },
  {
   "cell_type": "code",
   "execution_count": 14,
   "id": "c337dba1",
   "metadata": {},
   "outputs": [
    {
     "data": {
      "text/plain": [
       "1606"
      ]
     },
     "execution_count": 14,
     "metadata": {},
     "output_type": "execute_result"
    }
   ],
   "source": [
    "len(targets_to_cell_lines_dict.keys())"
   ]
  },
  {
   "attachments": {},
   "cell_type": "markdown",
   "id": "166856d7",
   "metadata": {},
   "source": [
    "### Load silencing experiments"
   ]
  },
  {
   "attachments": {},
   "cell_type": "markdown",
   "id": "2f44ad86",
   "metadata": {},
   "source": [
    "Download from http://www.licpathway.net/KnockTF/index.html\n",
    "Link:  http://www.licpathway.net/KnockTF/download_FC/differential%20expression%20of%20genes%20in%20all%20datasets.txt"
   ]
  },
  {
   "cell_type": "code",
   "execution_count": 15,
   "metadata": {
    "collapsed": false
   },
   "outputs": [],
   "source": [
    "silencing_experiments = pd.read_csv(\n",
    "    # http://www.licpathway.net/KnockTF/download_FC/differential%20expression%20of%20genes%20in%20all%20datasets.txt\n",
    "    '/Users/danieldomingo/Downloads/database.txt',\n",
    "    sep='\\t',\n",
    ")"
   ]
  },
  {
   "cell_type": "code",
   "execution_count": 16,
   "metadata": {
    "collapsed": false
   },
   "outputs": [
    {
     "data": {
      "text/html": [
       "<div>\n",
       "<style scoped>\n",
       "    .dataframe tbody tr th:only-of-type {\n",
       "        vertical-align: middle;\n",
       "    }\n",
       "\n",
       "    .dataframe tbody tr th {\n",
       "        vertical-align: top;\n",
       "    }\n",
       "\n",
       "    .dataframe thead th {\n",
       "        text-align: right;\n",
       "    }\n",
       "</style>\n",
       "<table border=\"1\" class=\"dataframe\">\n",
       "  <thead>\n",
       "    <tr style=\"text-align: right;\">\n",
       "      <th></th>\n",
       "      <th>Sample_ID</th>\n",
       "      <th>TF</th>\n",
       "      <th>Gene</th>\n",
       "      <th>Mean Expr. of Treat</th>\n",
       "      <th>Mean Expr. of Control</th>\n",
       "      <th>FC</th>\n",
       "      <th>Log2FC</th>\n",
       "      <th>Rank</th>\n",
       "      <th>P_value</th>\n",
       "      <th>up_down</th>\n",
       "    </tr>\n",
       "  </thead>\n",
       "  <tbody>\n",
       "    <tr>\n",
       "      <th>0</th>\n",
       "      <td>DataSet_01_01</td>\n",
       "      <td>ESR1</td>\n",
       "      <td>KRT4</td>\n",
       "      <td>2753.89913</td>\n",
       "      <td>90.77417</td>\n",
       "      <td>30.33795</td>\n",
       "      <td>4.92305</td>\n",
       "      <td>1</td>\n",
       "      <td>1.8795e-09</td>\n",
       "      <td>1</td>\n",
       "    </tr>\n",
       "  </tbody>\n",
       "</table>\n",
       "</div>"
      ],
      "text/plain": [
       "       Sample_ID    TF  Gene Mean Expr. of Treat Mean Expr. of Control  \\\n",
       "0  DataSet_01_01  ESR1  KRT4          2753.89913              90.77417   \n",
       "\n",
       "         FC   Log2FC  Rank     P_value  up_down  \n",
       "0  30.33795  4.92305     1  1.8795e-09        1  "
      ]
     },
     "execution_count": 16,
     "metadata": {},
     "output_type": "execute_result"
    }
   ],
   "source": [
    "silencing_experiments.head(1)"
   ]
  },
  {
   "cell_type": "code",
   "execution_count": 17,
   "id": "16f36c6e",
   "metadata": {},
   "outputs": [
    {
     "data": {
      "text/plain": [
       "308"
      ]
     },
     "execution_count": 17,
     "metadata": {},
     "output_type": "execute_result"
    }
   ],
   "source": [
    "len(silencing_experiments.TF.unique())"
   ]
  },
  {
   "attachments": {},
   "cell_type": "markdown",
   "id": "17291033",
   "metadata": {},
   "source": [
    "Targets for which there are silencing experiments"
   ]
  },
  {
   "cell_type": "code",
   "execution_count": 18,
   "id": "be146e3f",
   "metadata": {},
   "outputs": [],
   "source": [
    "valid_targets = set(targets_to_cell_lines_dict.keys()).intersection(set(silencing_experiments.TF.unique()))"
   ]
  },
  {
   "attachments": {},
   "cell_type": "markdown",
   "id": "619ad785",
   "metadata": {},
   "source": [
    "Target overlap"
   ]
  },
  {
   "cell_type": "code",
   "execution_count": 19,
   "id": "23933278",
   "metadata": {},
   "outputs": [
    {
     "data": {
      "text/plain": [
       "47"
      ]
     },
     "execution_count": 19,
     "metadata": {},
     "output_type": "execute_result"
    }
   ],
   "source": [
    "len(valid_targets)"
   ]
  },
  {
   "attachments": {},
   "cell_type": "markdown",
   "id": "58947c9a",
   "metadata": {},
   "source": [
    "After manual checking these are the experiments for specific targets that are measured cell lines"
   ]
  },
  {
   "cell_type": "code",
   "execution_count": 20,
   "id": "ed69faa7",
   "metadata": {},
   "outputs": [],
   "source": [
    "targets_with_transcriptomics_in_the_same_cell_line = {\n",
    "    # 'TP53'\n",
    "    'TP53': {\n",
    "        'DataSet_01_31', # HEK293T\n",
    "        'DataSet_01_37', # SKB\n",
    "    },\n",
    "    'ATM': {\n",
    "        'DataSet_01_219'  # MCF10A\n",
    "    },\n",
    "    'RELA': {\n",
    "        'DataSet_01_30' # HEK293 / HEK293T\n",
    "    },\n",
    "    'PTEN': {\n",
    "        'DataSet_01_303'  # SKB\n",
    "    }\n",
    "}"
   ]
  },
  {
   "cell_type": "code",
   "execution_count": 21,
   "id": "c8a91320",
   "metadata": {},
   "outputs": [],
   "source": [
    "pairs_to_investigate = []\n",
    "\n",
    "for target in targets_to_cell_lines_dict:\n",
    "\n",
    "    if target not in targets_with_transcriptomics_in_the_same_cell_line:\n",
    "        continue\n",
    "\n",
    "    # Drugs that have transcriptomics in the same cell line\n",
    "    if target == 'RELA':\n",
    "        pairs_to_investigate.append((\n",
    "            list(targets_to_cell_lines_dict[target]['HEK293T']),\n",
    "            'HEK293T',\n",
    "            list(targets_with_transcriptomics_in_the_same_cell_line[target])\n",
    "        ))\n",
    "\n",
    "    # \"\"\"The drugs targeting TP53 have multiple other targets so it is not a one to one comparison\"\"\"\n",
    "    # elif target == 'TP53':\n",
    "    #     pairs_to_investigate.append((\n",
    "    #         list(targets_to_cell_lines_dict[target]['HEK293T']),\n",
    "    #         'HEK293T',\n",
    "    #         list(targets_with_transcriptomics_in_the_same_cell_line[target])\n",
    "    #     ))\n",
    "    #     pairs_to_investigate.append((\n",
    "    #         list(targets_to_cell_lines_dict[target]['SKB']),\n",
    "    #         'SKB',\n",
    "    #         list(targets_with_transcriptomics_in_the_same_cell_line[target])\n",
    "    #     ))\n",
    "\n",
    "    elif target == 'ATM':\n",
    "        pairs_to_investigate.append((\n",
    "            list(targets_to_cell_lines_dict[target]['MCF10A']),\n",
    "            'MCF10A',\n",
    "            list(targets_with_transcriptomics_in_the_same_cell_line[target])\n",
    "        ))\n",
    "        \n",
    "    elif target == 'PTEN':\n",
    "        pairs_to_investigate.append((\n",
    "            list(targets_to_cell_lines_dict[target]['SKB']),\n",
    "            'SKB',\n",
    "            list(targets_with_transcriptomics_in_the_same_cell_line[target])\n",
    "        ))\n"
   ]
  },
  {
   "attachments": {},
   "cell_type": "markdown",
   "id": "8a114953",
   "metadata": {},
   "source": [
    "Pairs of drugs to calculate the correlation\n",
    "(Drug, Cell line, Dataset from the silencing database)"
   ]
  },
  {
   "cell_type": "code",
   "execution_count": 23,
   "id": "1e5a40a9",
   "metadata": {},
   "outputs": [
    {
     "data": {
      "text/plain": [
       "[(['CID52564'], 'HEK293T', ['DataSet_01_30']),\n",
       " (['CID01466', 'CID01467', 'CID55186'], 'MCF10A', ['DataSet_01_219']),\n",
       " (['CID51684', 'CID56867'], 'SKB', ['DataSet_01_303'])]"
      ]
     },
     "execution_count": 23,
     "metadata": {},
     "output_type": "execute_result"
    }
   ],
   "source": [
    "pairs_to_investigate"
   ]
  },
  {
   "cell_type": "code",
   "execution_count": 24,
   "id": "e41becf0",
   "metadata": {},
   "outputs": [
    {
     "name": "stdout",
     "output_type": "stream",
     "text": [
      "Correlation between the target vector and the transcriptomic response for CID52564 and RELA in HEK293T is -0.015310912258553721\n",
      "Correlation between the target vector and the transcriptomic response for CID01466 and ATM in MCF10A is 0.03578116285119528\n",
      "Correlation between the target vector and the transcriptomic response for CID51684 and PTEN in SKB is -0.013626536370243476\n"
     ]
    }
   ],
   "source": [
    "\n",
    "for compound, cell_line, dataset in pairs_to_investigate:\n",
    "\n",
    "    # Get the transcriptomic response for the compound\n",
    "    transcriptomic_response = transcriptomic_responses_df.loc[compound[0] + '_' + cell_line]\n",
    "\n",
    "    # silencing experiments\n",
    "    silencing_subset_df = silencing_experiments[\n",
    "        (silencing_experiments.Sample_ID == dataset[0])\n",
    "    ]\n",
    "\n",
    "    if len(silencing_subset_df.TF.unique()) > 2:\n",
    "        raise ValueError('More than 2 genes were silenced in the experiment')\n",
    "\n",
    "    target = silencing_subset_df.TF.unique()[0]\n",
    "\n",
    "    # Filter by 0.05 p value\n",
    "    silencing_subset_df = silencing_subset_df[silencing_subset_df.P_value < 0.05]\n",
    "    \n",
    "    # Get the gene names with 2 in the up_down column\n",
    "    down_regulated_genes = [\n",
    "        gene\n",
    "        for gene in silencing_subset_df[silencing_subset_df.up_down == 2].Gene.unique()\n",
    "        if gene in transcriptomic_response.index\n",
    "    ]\n",
    "\n",
    "    up_regulated_genes = [\n",
    "        gene\n",
    "        for gene in silencing_subset_df[silencing_subset_df.up_down == 1].Gene.unique()\n",
    "        if gene in transcriptomic_response.index\n",
    "    ]\n",
    "\n",
    "    # Make a empty Series dataframe with the indexes of transcriptomic_response.index\n",
    "    silencing_experiment_degs = pd.Series(index=transcriptomic_response.index)\n",
    "    silencing_experiment_degs.fillna(0, inplace=True)\n",
    "\n",
    "    # Add +1 to the up regulated genes in the silencing_experiment_degs if the index exist\n",
    "    silencing_experiment_degs[up_regulated_genes] = 1\n",
    "    silencing_experiment_degs[down_regulated_genes] = -1\n",
    "\n",
    "    # Get the correlation between the target vector and the transcriptomic response\n",
    "    correlation = stats.pearsonr(transcriptomic_response, silencing_experiment_degs)[0]\n",
    "\n",
    "    print(f'Correlation between the target vector and the transcriptomic response for {compound[0]} and {target} in {cell_line} is {correlation}')\n"
   ]
  }
 ],
 "metadata": {
  "kernelspec": {
   "display_name": "Python 3 (ipykernel)",
   "language": "python",
   "name": "python3"
  },
  "language_info": {
   "codemirror_mode": {
    "name": "ipython",
    "version": 3
   },
   "file_extension": ".py",
   "mimetype": "text/x-python",
   "name": "python",
   "nbconvert_exporter": "python",
   "pygments_lexer": "ipython3",
   "version": "3.8.16"
  }
 },
 "nbformat": 4,
 "nbformat_minor": 5
}
