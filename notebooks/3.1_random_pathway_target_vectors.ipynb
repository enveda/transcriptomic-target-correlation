{
 "cells": [
  {
   "cell_type": "markdown",
   "id": "ccae9a07",
   "metadata": {},
   "source": [
    "# Protein Pathways\n",
    "\n",
    "This notebook generates sets of random pathways and adjusts the ChemPert target data frame from the chempert_preprocessing notebook"
   ]
  },
  {
   "cell_type": "code",
   "execution_count": 2,
   "id": "530c87f6",
   "metadata": {},
   "outputs": [],
   "source": [
    "import pandas as pd\n",
    "import numpy as np\n",
    "from tqdm import tqdm_notebook, tqdm\n",
    "from matplotlib import pyplot as plt"
   ]
  },
  {
   "cell_type": "markdown",
   "id": "6643c52b",
   "metadata": {},
   "source": [
    "# Get Protein Pathway Databases"
   ]
  },
  {
   "cell_type": "code",
   "execution_count": 4,
   "id": "4a389eb0",
   "metadata": {},
   "outputs": [
    {
     "name": "stderr",
     "output_type": "stream",
     "text": [
      "100%|███████████████████████████████████████| 2896/2896 [01:32<00:00, 31.46it/s]\n"
     ]
    }
   ],
   "source": [
    "# Pathway data set\n",
    "#https://github.com/pathwayforte/results/blob/master/input/gmt_files/merged_geneset_final.gmt\n",
    "kegg_df = pd.read_csv('../data/Protein_pathways/kegg_data.csv', sep=',', header=None, low_memory=False)\n",
    "kegg_df = kegg_df.drop([0,1], axis=1)\n",
    "pathway_lengths = [] \n",
    "\n",
    "# Remove pathways that are too long or short\n",
    "for i in tqdm(kegg_df.index.values):\n",
    "    current_pathway = kegg_df.loc[i]\n",
    "    current_pathway = [x for x in current_pathway if not pd.isna(x)]\n",
    "    if len(current_pathway) > 300 or len(current_pathway) < 15:\n",
    "        kegg_df = kegg_df.drop(i, axis=0)\n",
    "    else:\n",
    "        pathway_lengths.append(len(current_pathway))\n",
    "kegg_df = kegg_df.dropna(axis=1, how='all')       "
   ]
  },
  {
   "cell_type": "markdown",
   "id": "755e018e",
   "metadata": {},
   "source": [
    "### Create random sets of pathways"
   ]
  },
  {
   "cell_type": "code",
   "execution_count": 5,
   "id": "b86dfbaa",
   "metadata": {},
   "outputs": [],
   "source": [
    "# Get all genes in pathways\n",
    "all_genes = kegg_df.to_numpy().flatten()\n",
    "all_genes = [x for x in all_genes if not pd.isna(x)]"
   ]
  },
  {
   "cell_type": "code",
   "execution_count": 23,
   "id": "e6c25504",
   "metadata": {},
   "outputs": [
    {
     "name": "stderr",
     "output_type": "stream",
     "text": [
      "100%|███████████████████████████████████████| 1000/1000 [01:30<00:00, 11.07it/s]\n"
     ]
    }
   ],
   "source": [
    "# Create dictionary\n",
    "import random\n",
    "random_pathways = {}\n",
    "\n",
    "# get sets of random pathways\n",
    "for i in tqdm(range(0,1000)):\n",
    "    random.shuffle(all_genes)\n",
    "    pathways = [all_genes[sum(pathway_lengths[:i-1]):sum(pathway_lengths[:i])] \n",
    "               for i in range(1,len(pathway_lengths))]\n",
    "    pathways.append(all_genes[sum(pathway_lengths[:-1]):sum(pathway_lengths)])\n",
    "\n",
    "    current_pathways = pd.DataFrame(pathways)\n",
    "    random_pathways[i] = current_pathways"
   ]
  },
  {
   "cell_type": "markdown",
   "id": "a597a178",
   "metadata": {},
   "source": [
    "# Get Chempert data"
   ]
  },
  {
   "cell_type": "code",
   "execution_count": 6,
   "id": "c6fc529f",
   "metadata": {},
   "outputs": [],
   "source": [
    "#Get transcriptomic data frame\n",
    "transcriptomic_responses_df = pd.read_csv(\n",
    "    '../data/Transcriptional_data_frames/transcriptional_response_vectors.tsv',\n",
    "    sep='\\t',\n",
    "    index_col=0,\n",
    ")"
   ]
  },
  {
   "cell_type": "code",
   "execution_count": 7,
   "id": "b3702752",
   "metadata": {},
   "outputs": [],
   "source": [
    "#Get targets data frame\n",
    "targets_df = pd.read_csv(\n",
    "    '../data/target_data_frames/target_vectors_Chempert.tsv',\n",
    "    sep='\\t',\n",
    "    index_col=0,\n",
    ")"
   ]
  },
  {
   "cell_type": "markdown",
   "id": "79c0ae87",
   "metadata": {},
   "source": [
    "# Adjust target vectors with random pathways"
   ]
  },
  {
   "cell_type": "code",
   "execution_count": 13,
   "id": "fadb15b0",
   "metadata": {},
   "outputs": [
    {
     "name": "stderr",
     "output_type": "stream",
     "text": [
      "/var/folders/3z/y7y2jb494531f1sq7lhdbnt40000gn/T/ipykernel_97358/3122197710.py:1: TqdmDeprecationWarning: This function will be removed in tqdm==5.0.0\n",
      "Please use `tqdm.notebook.tqdm` instead of `tqdm.tqdm_notebook`\n",
      "  for j in tqdm_notebook(range(1000)):\n"
     ]
    },
    {
     "data": {
      "application/vnd.jupyter.widget-view+json": {
       "model_id": "bc74e055b77e47e0a85acf95d94ce394",
       "version_major": 2,
       "version_minor": 0
      },
      "text/plain": [
       "  0%|          | 0/1000 [00:00<?, ?it/s]"
      ]
     },
     "metadata": {},
     "output_type": "display_data"
    }
   ],
   "source": [
    "for j in tqdm_notebook(range(1000)):\n",
    "    \n",
    "    #Set initial variables\n",
    "    current_pathways = random_pathways[j]\n",
    "    new_targets_df = targets_df.copy()\n",
    "    current_dict = {protein: current_pathways[current_pathways.isin([protein]).any(axis=1)].to_numpy()\n",
    "                   for protein in targets_df.columns}\n",
    "    \n",
    "    # Get list of targeted proteins\n",
    "    nonzero_vals = new_targets_df.apply(np.flatnonzero, axis=1)\n",
    "    columns = targets_df.columns\n",
    "    nonzero_vals = nonzero_vals.apply(lambda x: np.array(x))\n",
    "    nonzero_vals = nonzero_vals.apply(lambda x: list(columns[x]))\n",
    "\n",
    "    # Get related proteins\n",
    "    related_proteins = nonzero_vals.apply(lambda x: [current_dict[protein] for protein in x])\n",
    "    related_proteins = related_proteins.apply(lambda x: [related.flatten() for related in x])\n",
    "    related_proteins = related_proteins.apply(lambda x: [related[~(pd.isna(related))] for related in x])\n",
    "    related_proteins = related_proteins.apply(lambda x: [list(set(related)) for related in x])\n",
    "\n",
    "    # Create new target data frame\n",
    "    for drug in related_proteins.index.values:\n",
    "        for i,protein in enumerate(nonzero_vals[drug]):\n",
    "            gene_list = related_proteins[drug][i]\n",
    "            gene_list = list(set(gene_list).intersection(targets_df.columns))\n",
    "            test = np.array(new_targets_df.loc[drug, gene_list] == 0)\n",
    "            gene_list = np.array(gene_list)[test]\n",
    "            new_targets_df.loc[drug, gene_list] = np.ones(len(gene_list))*targets_df.loc[drug, protein] \n",
    "    \n",
    "    new_targets_df.to_csv(r'../test_data/target_data_frames/pathway_permutations/kegg_pathways_' + str(j) + '.csv')"
   ]
  },
  {
   "cell_type": "code",
   "execution_count": null,
   "id": "d244a61d",
   "metadata": {},
   "outputs": [],
   "source": []
  }
 ],
 "metadata": {
  "kernelspec": {
   "display_name": "Python 3 (ipykernel)",
   "language": "python",
   "name": "python3"
  },
  "language_info": {
   "codemirror_mode": {
    "name": "ipython",
    "version": 3
   },
   "file_extension": ".py",
   "mimetype": "text/x-python",
   "name": "python",
   "nbconvert_exporter": "python",
   "pygments_lexer": "ipython3",
   "version": "3.8.11"
  }
 },
 "nbformat": 4,
 "nbformat_minor": 5
}
