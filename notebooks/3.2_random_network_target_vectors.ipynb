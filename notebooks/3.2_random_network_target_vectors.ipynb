{
 "cells": [
  {
   "cell_type": "markdown",
   "id": "ccae9a07",
   "metadata": {},
   "source": [
    "# Protein Pathways\n",
    "\n",
    "This notebook uses random protein networks to adjust the ChemPert target data frame from the chempert_preprocessing notebook"
   ]
  },
  {
   "cell_type": "code",
   "execution_count": 2,
   "id": "530c87f6",
   "metadata": {},
   "outputs": [],
   "source": [
    "import pandas as pd\n",
    "import numpy as np\n",
    "from tqdm import tqdm_notebook, tqdm\n",
    "from matplotlib import pyplot as plt"
   ]
  },
  {
   "cell_type": "markdown",
   "id": "6643c52b",
   "metadata": {},
   "source": [
    "# Get original directional network"
   ]
  },
  {
   "cell_type": "code",
   "execution_count": 4,
   "id": "1a9c65c6",
   "metadata": {},
   "outputs": [],
   "source": [
    "#Original directional network\n",
    "kegg_network = pd.read_csv('../data/Protein_pathways/Kegg_network.tsv', sep='\\t')\n",
    "kegg_network = kegg_network.loc[kegg_network['source_database'].apply(lambda x: x == 'KEGG')]\n",
    "kegg_network = kegg_network.drop('source_database', axis=1)\n",
    "kegg_network['source'] = ['hgnc:' + x.split(':')[1] for x in kegg_network['source']]\n",
    "kegg_network['target'] = ['hgnc:' + x.split(':')[1] for x in kegg_network['target']]"
   ]
  },
  {
   "cell_type": "markdown",
   "id": "407e3636",
   "metadata": {},
   "source": [
    "# Get HGNC Symbols for Genes"
   ]
  },
  {
   "cell_type": "markdown",
   "id": "07ca6133",
   "metadata": {},
   "source": [
    "### Map protein codes to NCBI codes"
   ]
  },
  {
   "cell_type": "code",
   "execution_count": 5,
   "id": "ccc32674",
   "metadata": {},
   "outputs": [],
   "source": [
    "#Get 1st map to map proteins to NCBI Codes\n",
    "map_1_df = pd.read_csv('../data/Protein_mappings/proteins_uniprot.tsv', sep='\\t', header=None)\n",
    "map_1_df = map_1_df.rename({0: 'code', 1:'NCBI'}, axis=1)\n",
    "map_1_df.head()\n",
    "\n",
    "#Create dictionary mapping protein codes to NCBI codes\n",
    "map_1_keys = list(map_1_df['code'])\n",
    "map_1_values = list(map_1_df['NCBI'])\n",
    "map_1_dict = {map_1_keys[i]: map_1_values[i] for i in range(len(map_1_keys))}"
   ]
  },
  {
   "cell_type": "markdown",
   "id": "b6d33b15",
   "metadata": {},
   "source": [
    "### Map NCBI codes to HGNC symbols"
   ]
  },
  {
   "cell_type": "code",
   "execution_count": 6,
   "id": "0e8b5415",
   "metadata": {},
   "outputs": [],
   "source": [
    "#Get 2nd map to map proteins to HGNC symbols\n",
    "map_2_df = pd.read_csv('../data/Protein_mappings/proteins.tsv', sep='\\t', header=None)\n",
    "map_2_df = map_2_df.rename({0: 'NCBI', 2:'HGNC'}, axis=1)\n",
    "map_2_df.head()\n",
    "\n",
    "#Create dictionary mapping NCBI codes to HGNC codes\n",
    "map_2_keys = list(map_2_df['NCBI'])\n",
    "map_2_values = list(map_2_df['HGNC'])\n",
    "map_2_dict = {map_2_keys[i]: map_2_values[i] for i in range(len(map_2_keys))}"
   ]
  },
  {
   "cell_type": "markdown",
   "id": "12cc5849",
   "metadata": {},
   "source": [
    "### Map all drugs in databases to HGNC codes"
   ]
  },
  {
   "cell_type": "code",
   "execution_count": 7,
   "id": "161ddb11",
   "metadata": {},
   "outputs": [
    {
     "name": "stdout",
     "output_type": "stream",
     "text": [
      "Number of Unmapped proteins from kegg network: 0\n",
      "Number of proteins in kegg network: 27047\n"
     ]
    }
   ],
   "source": [
    "#Create function that maps the protein to HGNC symbols\n",
    "def dict_func(x):\n",
    "    try:\n",
    "        result = map_2_dict[map_1_dict[x]]\n",
    "    except:\n",
    "        result = 'None'\n",
    "    return result\n",
    "\n",
    "#Convert KEGG directional database to HGNC symbols\n",
    "kegg_network['source'] = kegg_network['source'].map(lambda x: dict_func(x))\n",
    "kegg_network['target'] = kegg_network['target'].map(lambda x: dict_func(x))\n",
    "print(\"Number of Unmapped proteins from kegg network: \" + str(list(kegg_network['source']).count('None')))\n",
    "print(\"Number of proteins in kegg network: \" + str(kegg_network.shape[0]))"
   ]
  },
  {
   "cell_type": "markdown",
   "id": "a597a178",
   "metadata": {},
   "source": [
    "# Get Chempert data"
   ]
  },
  {
   "cell_type": "code",
   "execution_count": 9,
   "id": "c6fc529f",
   "metadata": {},
   "outputs": [],
   "source": [
    "#Get transcriptomic data frame\n",
    "transcriptomic_responses_df = pd.read_csv(\n",
    "    '../data/Transcriptional_data_frames/transcriptional_response_vectors.tsv',\n",
    "    sep='\\t',\n",
    "    index_col=0,\n",
    ")"
   ]
  },
  {
   "cell_type": "code",
   "execution_count": 8,
   "id": "b3702752",
   "metadata": {},
   "outputs": [],
   "source": [
    "#Get targets data frame\n",
    "targets_df = pd.read_csv(\n",
    "    '../data/target_data_frames/target_vectors_Chempert.tsv',\n",
    "    sep='\\t',\n",
    "    index_col=0,\n",
    ")"
   ]
  },
  {
   "cell_type": "markdown",
   "id": "79c0ae87",
   "metadata": {},
   "source": [
    "# Adjust the target data frames with the random networks "
   ]
  },
  {
   "cell_type": "code",
   "execution_count": 208,
   "id": "61591c11",
   "metadata": {},
   "outputs": [
    {
     "name": "stderr",
     "output_type": "stream",
     "text": [
      "/var/folders/3z/y7y2jb494531f1sq7lhdbnt40000gn/T/ipykernel_97147/1725690059.py:1: TqdmDeprecationWarning: This function will be removed in tqdm==5.0.0\n",
      "Please use `tqdm.notebook.tqdm` instead of `tqdm.tqdm_notebook`\n",
      "  for j in tqdm_notebook(range(1,101)):\n"
     ]
    },
    {
     "data": {
      "application/vnd.jupyter.widget-view+json": {
       "model_id": "68bab62f2eee4d53bfe86aac37b7a659",
       "version_major": 2,
       "version_minor": 0
      },
      "text/plain": [
       "  0%|          | 0/100 [00:00<?, ?it/s]"
      ]
     },
     "metadata": {},
     "output_type": "display_data"
    }
   ],
   "source": [
    "for j in tqdm_notebook(range(1,101)):\n",
    "    \n",
    "    #Get targets data frame\n",
    "    targets_df = pd.read_csv(\n",
    "        '../data/target_data_frames/target_vectors_Chempert.tsv',\n",
    "        sep='\\t',\n",
    "        index_col=0,\n",
    "    )\n",
    "    \n",
    "    # Get random network\n",
    "    current_network = pd.read_csv('../shuffled/random_' + str(j) + '.tsv', sep='\\t')\n",
    "    current_network['source'] = current_network['source'].map(lambda x: dict_func(x))\n",
    "    current_network['target'] = current_network['target'].map(lambda x: dict_func(x))\n",
    "    current_network = pd.merge(current_network,kegg_network, indicator=True, how='outer')\\\n",
    "                                 .query('_merge==\"left_only\"')\\\n",
    "                                 .drop('_merge', axis=1)\n",
    "    current_network = current_network.dropna()\n",
    "    \n",
    "    #Set initial variables\n",
    "    sources = list(current_network['source'])\n",
    "    targets = list(current_network['target'])\n",
    "    relations = np.array(current_network['relation'])\n",
    "    protein_relationship_indexes = {protein: [i for i,x in enumerate(sources) if x==protein] \n",
    "                                        for protein in targets_df.columns}\n",
    "    correlation = True\n",
    "    new_targets_df = targets_df.copy()\n",
    "    \n",
    "    #Set number of levels to repeatedly apply the kegg network database\n",
    "    num_levels = 3\n",
    "\n",
    "    #Add protein pathways from directional pathways. Num_levels is the number of times to repeat this process\n",
    "    for i in range(num_levels):\n",
    "        drugs = np.array(targets_df.index.values)\n",
    "        columns = targets_df.columns\n",
    "        columns = [x for x in columns if x in sources]\n",
    "        \n",
    "        # Get index of drugs that target each protein\n",
    "        protein_array = targets_df.apply(np.flatnonzero, axis=0)\n",
    "        \n",
    "        # Get proteins that are related to each other\n",
    "        related_proteins = {protein: np.array([[targets[i], i] for i in protein_relationship_indexes[protein]\n",
    "                                     if targets[i] in targets_df.columns]) for protein in columns}\n",
    "        \n",
    "        # Remove proteins that are not in the dataset or that are related to any other proteins\n",
    "        proteins_to_remove = [x for x in protein_array.index.values if x not in columns or\n",
    "                              len(related_proteins[x]) == 0]\n",
    "        protein_array = protein_array.drop(proteins_to_remove, axis=0)\n",
    "        \n",
    "        # Remove proteins that aren't targeted by any drugs\n",
    "        protein_array = protein_array[protein_array.apply(lambda x: len(x) > 0)]\n",
    "        \n",
    "        # Get the relation for each pair of related proteins\n",
    "        protein_relationships = {protein: relations[np.uint64(related_proteins[protein][:,1])] \n",
    "                                 for protein in protein_array.index.values}\n",
    "        \n",
    "        # Get drug names for drugs targeting proteins\n",
    "        drug_names = [drugs[x] for x in protein_array.values]\n",
    "        drug_names = pd.Series(drug_names, index=protein_array.index.values)\n",
    "        \n",
    "        # Determine whether each target protein is upregulated or downregulated\n",
    "        protein_array_values = [[targets_df.loc[drug, protein] for drug in drug_names[protein]] \n",
    "                                for protein in drug_names.index.values]\n",
    "        protein_array_values = pd.Series(protein_array_values, index=protein_array.index.values)\n",
    "        \n",
    "        # Update target dataframe\n",
    "        for protein in drug_names.index.values:\n",
    "            current_related = related_proteins[protein][:,0]\n",
    "            current_values = protein_array_values[protein]\n",
    "            new_targets_df.loc[drug_names[protein], current_related] \\\n",
    "            = (np.tile(np.array(current_values).reshape((len(current_values),1)), (1, len(current_related)))\\\n",
    "                * protein_relationships[protein])\n",
    "        \n",
    "        # Save target data frames\n",
    "        targets_df = new_targets_df.copy()\n",
    "        targets_df.to_csv(r'../data/target_data_frames/random_networks/random_' + str(j) + '.csv')\n",
    "        \n",
    "        \n",
    "        \n",
    "        "
   ]
  },
  {
   "cell_type": "code",
   "execution_count": null,
   "id": "a18a3827",
   "metadata": {},
   "outputs": [],
   "source": []
  }
 ],
 "metadata": {
  "kernelspec": {
   "display_name": "Python 3 (ipykernel)",
   "language": "python",
   "name": "python3"
  },
  "language_info": {
   "codemirror_mode": {
    "name": "ipython",
    "version": 3
   },
   "file_extension": ".py",
   "mimetype": "text/x-python",
   "name": "python",
   "nbconvert_exporter": "python",
   "pygments_lexer": "ipython3",
   "version": "3.8.11"
  }
 },
 "nbformat": 4,
 "nbformat_minor": 5
}
