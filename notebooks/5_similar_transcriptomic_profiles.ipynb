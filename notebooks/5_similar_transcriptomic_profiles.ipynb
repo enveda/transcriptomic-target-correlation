{
 "cells": [
  {
   "cell_type": "code",
   "execution_count": 1,
   "id": "f2352291",
   "metadata": {},
   "outputs": [],
   "source": [
    "import getpass\n",
    "import sys\n",
    "import time\n",
    "import pandas as pd\n",
    "from scipy import stats\n",
    "import numpy as np\n",
    "import seaborn as sns\n",
    "from scipy.stats import linregress\n",
    "import warnings\n",
    "from tqdm import tqdm\n",
    "from matplotlib import pyplot as plt\n",
    "warnings.filterwarnings('ignore')"
   ]
  },
  {
   "cell_type": "markdown",
   "id": "ac796bff",
   "metadata": {},
   "source": [
    "# Get transcriptomic and target vectors"
   ]
  },
  {
   "cell_type": "code",
   "execution_count": 2,
   "id": "57f5209f",
   "metadata": {},
   "outputs": [],
   "source": [
    "transcriptomic_responses_df = pd.read_csv(\n",
    "    '../data/Transcriptional_data_frames/transcriptional_response_vectors_cell_line.tsv',\n",
    "    sep='\\t',\n",
    "    index_col=0,\n",
    ")"
   ]
  },
  {
   "cell_type": "code",
   "execution_count": 3,
   "id": "43d4ba14",
   "metadata": {},
   "outputs": [
    {
     "name": "stderr",
     "output_type": "stream",
     "text": [
      "100%|███████████████████████████████████████| 8781/8781 [01:35<00:00, 92.37it/s]\n"
     ]
    }
   ],
   "source": [
    "#Remove transcriptomic responses with less than 100 DEGs\n",
    "for index in tqdm(transcriptomic_responses_df.index.values):\n",
    "    if sum(abs(transcriptomic_responses_df.loc[index])) < 100:\n",
    "        transcriptomic_responses_df = transcriptomic_responses_df.drop(index, axis=0)"
   ]
  },
  {
   "cell_type": "code",
   "execution_count": 4,
   "id": "13021aea",
   "metadata": {},
   "outputs": [
    {
     "data": {
      "text/plain": [
       "'/Users/chloeengler/Documents/Transcriptomic/drug-transcriptomics-target-correlation/notebooks'"
      ]
     },
     "execution_count": 4,
     "metadata": {},
     "output_type": "execute_result"
    }
   ],
   "source": [
    "import os\n",
    "os.getcwd()"
   ]
  },
  {
   "cell_type": "code",
   "execution_count": 5,
   "id": "1c8b95c3",
   "metadata": {},
   "outputs": [],
   "source": [
    "#Get ChemPert target vectors\n",
    "targets_df = pd.read_csv(\n",
    "    '../data/target_data_frames/target_vectors_ChemPert.tsv',\n",
    "    sep='\\t',\n",
    "    index_col=0,\n",
    ")\n",
    "\n",
    "#Get ChemPert(KEGG) target vectors\n",
    "kegg_targets_df = pd.read_csv(\n",
    "            '../data/target_data_frames/target_vectors_ChemPert(KEGG).csv',\n",
    "            sep=',',\n",
    "            index_col=0,\n",
    "        )\n",
    "\n",
    "#Get ChemPert(Topological) target vectors\n",
    "network_targets_df = pd.read_csv(\n",
    "            '../data/target_data_frames/target_vectors_ChemPert(Topological).csv',\n",
    "            sep=',',\n",
    "            index_col=0,\n",
    "        )\n",
    "\n",
    "#Get ChemPert(Topological_Level_2) target vectors\n",
    "network_repeated_targets_df = pd.read_csv(\n",
    "            '../data/target_data_frames/target_vectors_ChemPert(Topological_Level_2).csv',\n",
    "            sep=',',\n",
    "            index_col=0,\n",
    "        )\n"
   ]
  },
  {
   "cell_type": "markdown",
   "id": "08517c74",
   "metadata": {},
   "source": [
    "# Get Cell Lines"
   ]
  },
  {
   "cell_type": "code",
   "execution_count": 6,
   "id": "34ac3d26",
   "metadata": {},
   "outputs": [
    {
     "data": {
      "text/html": [
       "<div>\n",
       "<style scoped>\n",
       "    .dataframe tbody tr th:only-of-type {\n",
       "        vertical-align: middle;\n",
       "    }\n",
       "\n",
       "    .dataframe tbody tr th {\n",
       "        vertical-align: top;\n",
       "    }\n",
       "\n",
       "    .dataframe thead th {\n",
       "        text-align: right;\n",
       "    }\n",
       "</style>\n",
       "<table border=\"1\" class=\"dataframe\">\n",
       "  <thead>\n",
       "    <tr style=\"text-align: right;\">\n",
       "      <th></th>\n",
       "      <th>Chemical_ID</th>\n",
       "      <th>Cell_Source</th>\n",
       "      <th>Concentration</th>\n",
       "    </tr>\n",
       "    <tr>\n",
       "      <th>Response_ID</th>\n",
       "      <th></th>\n",
       "      <th></th>\n",
       "      <th></th>\n",
       "    </tr>\n",
       "  </thead>\n",
       "  <tbody>\n",
       "    <tr>\n",
       "      <th>RID00001</th>\n",
       "      <td>CID01777</td>\n",
       "      <td>Hepatocyte</td>\n",
       "      <td>10uM</td>\n",
       "    </tr>\n",
       "    <tr>\n",
       "      <th>RID00002</th>\n",
       "      <td>CID01777</td>\n",
       "      <td>Hepatocyte</td>\n",
       "      <td>50uM</td>\n",
       "    </tr>\n",
       "    <tr>\n",
       "      <th>RID00003</th>\n",
       "      <td>CID01776</td>\n",
       "      <td>Hepatocyte</td>\n",
       "      <td>75uM</td>\n",
       "    </tr>\n",
       "    <tr>\n",
       "      <th>RID00004</th>\n",
       "      <td>CID51798</td>\n",
       "      <td>Hepatocyte</td>\n",
       "      <td>300uM</td>\n",
       "    </tr>\n",
       "  </tbody>\n",
       "</table>\n",
       "</div>"
      ],
      "text/plain": [
       "            Chemical_ID Cell_Source Concentration\n",
       "Response_ID                                      \n",
       "RID00001       CID01777  Hepatocyte          10uM\n",
       "RID00002       CID01777  Hepatocyte          50uM\n",
       "RID00003       CID01776  Hepatocyte          75uM\n",
       "RID00004       CID51798  Hepatocyte         300uM"
      ]
     },
     "execution_count": 6,
     "metadata": {},
     "output_type": "execute_result"
    }
   ],
   "source": [
    "response_metdata_df = pd.read_csv(\n",
    "    's3://enveda-data-raw/chempert/Information_for_transcriptional_responses.csv',\n",
    "    usecols=[\n",
    "        'Response_ID',\n",
    "        'Chemical_ID',\n",
    "        'Concentration',\n",
    "        'Cell_Source'\n",
    "    ],\n",
    "    index_col='Response_ID',\n",
    ")\n",
    "response_metdata_df.head(4)\n"
   ]
  },
  {
   "cell_type": "code",
   "execution_count": 7,
   "id": "b1c78c01",
   "metadata": {},
   "outputs": [
    {
     "name": "stderr",
     "output_type": "stream",
     "text": [
      "100%|██████████████████████████████████████| 2152/2152 [00:02<00:00, 863.78it/s]\n"
     ]
    }
   ],
   "source": [
    "#Create dictionary of cell lines for each drug\n",
    "cell_lines = {}\n",
    "for drug in tqdm(targets_df.index.values):\n",
    "    current_cell_lines = [x.split('_')[1] for x in transcriptomic_responses_df.index.values if x.startswith(drug)]\n",
    "    cell_lines[drug] = np.unique(current_cell_lines)\n",
    "    "
   ]
  },
  {
   "cell_type": "markdown",
   "id": "bf54a046",
   "metadata": {},
   "source": [
    "# Calculate correlation between all target vectors"
   ]
  },
  {
   "cell_type": "code",
   "execution_count": 8,
   "id": "9268bab8",
   "metadata": {},
   "outputs": [],
   "source": [
    "from scipy.spatial.distance import jaccard\n",
    "from tqdm import tqdm_notebook\n",
    "from itertools import permutations, combinations\n",
    "import time"
   ]
  },
  {
   "cell_type": "code",
   "execution_count": 9,
   "id": "7c212edc",
   "metadata": {},
   "outputs": [],
   "source": [
    "def get_jaccard_correlation(\n",
    "    target_matrix: pd.DataFrame\n",
    "):\n",
    "    \"\"\"Get Jaccard similarity for each drug.\"\"\"\n",
    "    n = len(target_matrix.index.values)\n",
    "    correlation_df = pd.DataFrame(columns = targets_df.index.values, index=targets_df.index.values)\n",
    "    all_combinations = combinations(targets_df.index.values, 2)\n",
    "    all_pairs = []\n",
    "    for pair in all_combinations:\n",
    "        all_pairs.append(pair) \n",
    "    \n",
    "    for k,pair in enumerate(tqdm(all_pairs)):\n",
    "        drug_1 = pair[0]\n",
    "        drug_2 = pair[1]\n",
    "        target_vector_1 = target_matrix.loc[drug_1, :]\n",
    "        target_vector_2 = target_matrix.loc[drug_2, :]\n",
    "        dissimilarity_score = jaccard(target_vector_1, target_vector_2)\n",
    "        similarity = 1 - dissimilarity_score\n",
    "        correlation_df.loc[drug_1, drug_2] = similarity\n",
    "    return correlation_df"
   ]
  },
  {
   "cell_type": "code",
   "execution_count": 10,
   "id": "88a660b0",
   "metadata": {},
   "outputs": [
    {
     "name": "stderr",
     "output_type": "stream",
     "text": [
      "100%|███████████████████████████████| 2314476/2314476 [10:21<00:00, 3723.09it/s]\n",
      "100%|███████████████████████████████| 2314476/2314476 [11:13<00:00, 3435.94it/s]\n",
      "100%|███████████████████████████████| 2314476/2314476 [11:38<00:00, 3313.30it/s]\n",
      "100%|███████████████████████████████| 2314476/2314476 [08:58<00:00, 4296.24it/s]\n"
     ]
    }
   ],
   "source": [
    "similarity_df = get_jaccard_correlation(targets_df)\n",
    "kegg_similarity_df = get_jaccard_correlation(kegg_targets_df)\n",
    "network_similarity_df = get_jaccard_correlation(network_targets_df)\n",
    "network_repeated_similarity_df = get_jaccard_correlation(network_repeated_targets_df)\n"
   ]
  },
  {
   "cell_type": "markdown",
   "id": "f80e91ac",
   "metadata": {},
   "source": [
    "# Calculate correlation between all transcriptomic vectors"
   ]
  },
  {
   "cell_type": "code",
   "execution_count": 11,
   "id": "d17d4fa0",
   "metadata": {},
   "outputs": [],
   "source": [
    "def get_jaccard_correlation_transcripts(\n",
    "    target_matrix: pd.DataFrame\n",
    "):\n",
    "    \"\"\"Get Jaccard similarity for each drug.\"\"\"\n",
    "    n = len(target_matrix.index.values)\n",
    "    correlation_df = pd.DataFrame(columns = transcriptomic_responses_df.index.values, \\\n",
    "                                  index=transcriptomic_responses_df.index.values)\n",
    "    all_combinations = combinations(transcriptomic_responses_df.index.values, 2)\n",
    "    all_pairs = []\n",
    "    for pair in all_combinations:\n",
    "        all_pairs.append(pair) \n",
    "    \n",
    "    for k,pair in enumerate(tqdm(all_pairs)):\n",
    "        drug_1 = pair[0]\n",
    "        drug_2 = pair[1]\n",
    "        if drug_1.split('_')[1] == drug_2.split('_')[1]:\n",
    "            target_vector_1 = target_matrix.loc[drug_1, :]\n",
    "            target_vector_2 = target_matrix.loc[drug_2, :]\n",
    "            dissimilarity_score = jaccard(target_vector_1, target_vector_2)\n",
    "            similarity = 1 - dissimilarity_score\n",
    "            correlation_df.loc[drug_1, drug_2] = similarity\n",
    "    return correlation_df\n"
   ]
  },
  {
   "cell_type": "code",
   "execution_count": 12,
   "id": "bde66612",
   "metadata": {},
   "outputs": [
    {
     "name": "stderr",
     "output_type": "stream",
     "text": [
      "100%|████████████████████████████| 34150980/34150980 [19:13<00:00, 29606.28it/s]\n"
     ]
    }
   ],
   "source": [
    "transcript_similarity_df = get_jaccard_correlation_transcripts(transcriptomic_responses_df)\n"
   ]
  },
  {
   "cell_type": "markdown",
   "id": "9d8587da",
   "metadata": {},
   "source": [
    "# Calculate correlation between target vector similarity and transcriptomic vector similarity"
   ]
  },
  {
   "cell_type": "code",
   "execution_count": 13,
   "id": "5acc49dd",
   "metadata": {},
   "outputs": [
    {
     "name": "stderr",
     "output_type": "stream",
     "text": [
      "100%|████████████████████████████| 34150980/34150980 [21:25<00:00, 26567.92it/s]\n"
     ]
    }
   ],
   "source": [
    "#Create lists\n",
    "all_pairs = []\n",
    "similarity_array = []\n",
    "transcript_similarity_array = []\n",
    "kegg_similarity_array = []\n",
    "network_similarity_array = []\n",
    "network_repeated_similarity_array = []\n",
    "\n",
    "#Get all pairs of drugs\n",
    "all_combinations = combinations(transcriptomic_responses_df.index.values, 2)\n",
    "for pair in all_combinations:\n",
    "    all_pairs.append(pair) \n",
    "\n",
    "#Get array of transcriptomic similarity scores\n",
    "#and arrays of target similarity scores for each database\n",
    "for drug_1, drug_2 in tqdm(all_pairs):\n",
    "    transcript_score = transcript_similarity_df.loc[drug_1, drug_2]\n",
    "    target_score = similarity_df.loc[drug_1.split('_')[0], drug_2.split('_')[0]]\n",
    "    kegg_score = kegg_similarity_df.loc[drug_1.split('_')[0], drug_2.split('_')[0]]\n",
    "    network_score = network_similarity_df.loc[drug_1.split('_')[0], drug_2.split('_')[0]]\n",
    "    network_repeated_score = network_repeated_similarity_df.loc[drug_1.split('_')[0], drug_2.split('_')[0]]\n",
    "    if not pd.isna(transcript_score) and not pd.isna(target_score):\n",
    "        transcript_similarity_array.append(transcript_score)\n",
    "        similarity_array.append(target_score)\n",
    "        kegg_similarity_array.append(kegg_score)\n",
    "        network_similarity_array.append(network_score)\n",
    "        network_repeated_similarity_array.append(network_repeated_score)\n",
    "        \n",
    "\n"
   ]
  },
  {
   "cell_type": "code",
   "execution_count": 14,
   "id": "c614e940",
   "metadata": {},
   "outputs": [
    {
     "name": "stdout",
     "output_type": "stream",
     "text": [
      "Pearson correlation for ChemPert vectors: 0.012148896414815421\n",
      "Pearson correlation for ChemPert(KEGG) vectors: 0.05176033037103553\n",
      "Pearson correlation for ChemPert(Topological) vectors: 0.015258048652392105\n",
      "Pearson correlation for ChemPert(Topological_Level_2) vectors: 0.016084772409025692\n"
     ]
    }
   ],
   "source": [
    "from scipy.stats import pearsonr\n",
    "print(\"Pearson correlation for ChemPert vectors: \" \\\n",
    "      + str(pearsonr(similarity_array, transcript_similarity_array)[0]))\n",
    "print(\"Pearson correlation for ChemPert(KEGG) vectors: \"\\\n",
    "      + str(pearsonr(kegg_similarity_array, transcript_similarity_array)[0]))\n",
    "print(\"Pearson correlation for ChemPert(Topological) vectors: \"\\\n",
    "      + str(pearsonr(network_similarity_array, transcript_similarity_array)[0]))\n",
    "print(\"Pearson correlation for ChemPert(Topological_Level_2) vectors: \"\\\n",
    "      + str(pearsonr(network_repeated_similarity_array, transcript_similarity_array)[0]))"
   ]
  },
  {
   "cell_type": "markdown",
   "id": "20f08c1f",
   "metadata": {},
   "source": [
    "# Look at pairs where the target vectors are highly correlated"
   ]
  },
  {
   "cell_type": "code",
   "execution_count": 15,
   "id": "032392ba",
   "metadata": {},
   "outputs": [
    {
     "data": {
      "application/vnd.jupyter.widget-view+json": {
       "model_id": "32867682d42e4537a5979f824f537523",
       "version_major": 2,
       "version_minor": 0
      },
      "text/plain": [
       "  0%|          | 0/1167 [00:00<?, ?it/s]"
      ]
     },
     "metadata": {},
     "output_type": "display_data"
    }
   ],
   "source": [
    "target_vals = []\n",
    "transcript_vals = []\n",
    "\n",
    "#Get drug pairs that have all the same targets\n",
    "high_corr_targets = similarity_df.reset_index().melt(id_vars='index').query('value == 1.0')\n",
    "\n",
    "#Get transcriptomic simialrity scores for drug pairs that share all their targets\n",
    "for pair in tqdm_notebook(high_corr_targets.index.values):\n",
    "    drug_1 = high_corr_targets.loc[pair, 'index']\n",
    "    drug_2 = high_corr_targets.loc[pair, 'variable']\n",
    "    for line in cell_lines[drug_1]:\n",
    "        for line_2 in cell_lines[drug_2]:\n",
    "            if line == line_2:\n",
    "                target_vals.append(1)\n",
    "                transcript_vals.append( transcript_similarity_df.loc[drug_1 + '_' + line, \\\n",
    "                                                                    drug_2 + '_' + line])"
   ]
  },
  {
   "cell_type": "code",
   "execution_count": 16,
   "id": "e3c3332a",
   "metadata": {},
   "outputs": [
    {
     "data": {
      "text/plain": [
       "<Figure size 360x1440 with 0 Axes>"
      ]
     },
     "metadata": {},
     "output_type": "display_data"
    },
    {
     "data": {
      "image/png": "[encoded data removed]",
      "text/plain": [
       "<Figure size 720x360 with 4 Axes>"
      ]
     },
     "metadata": {
      "needs_background": "light"
     },
     "output_type": "display_data"
    }
   ],
   "source": [
    "import seaborn as sns\n",
    "import numpy as np\n",
    "\n",
    "#Create data frame with target similarity scores and transcriptomic similarity scores\n",
    "high_corr_target_df = np.array([transcript_vals, np.ones(len(transcript_vals))])\n",
    "high_corr_target_df = pd.DataFrame(high_corr_target_df, index = ['transcriptomic similarity', \\\n",
    "                                                                 'target similarity'])\n",
    "#Show clustermap of similarity scores\n",
    "plt.figure(figsize=([5,20]))\n",
    "sns.clustermap(high_corr_target_df, figsize=(10,5))\n",
    "plt.show()\n"
   ]
  },
  {
   "cell_type": "code",
   "execution_count": 17,
   "id": "c9836de1",
   "metadata": {},
   "outputs": [
    {
     "name": "stdout",
     "output_type": "stream",
     "text": [
      "Average transcriptomic similarity for drug pairs that share all targets: 0.1398716884693998\n",
      "Average transcriptomic similarity all drug pairs: 0.13021816263292407\n"
     ]
    }
   ],
   "source": [
    "print('Average transcriptomic similarity for drug pairs that share all targets: ' \\\n",
    "     + str(sum(transcript_vals)/len(transcript_vals)))\n",
    "print('Average transcriptomic similarity all drug pairs: ' \\\n",
    "     + str(sum(transcript_similarity_array)/len(transcript_similarity_array)))"
   ]
  },
  {
   "cell_type": "markdown",
   "id": "c8432355",
   "metadata": {},
   "source": [
    "### Save highly correlated pairs"
   ]
  },
  {
   "cell_type": "code",
   "execution_count": 18,
   "id": "b2d45808",
   "metadata": {},
   "outputs": [],
   "source": [
    "#Create lists\n",
    "all_drug_1 = []\n",
    "all_drug_2 = []\n",
    "num_nonzero_targets_1 = []\n",
    "num_nonzero_targets_2 = []\n",
    "num_nonzero_transcript_1 = []\n",
    "num_nonzero_transcript_2 = []\n",
    "num_shared_targets = []\n",
    "num_shared_DEGs = []\n",
    "target_vals = []\n",
    "transcript_vals = []\n",
    "\n",
    "#Get more information about the drug pairs that share all their targets\n",
    "for pair in high_corr_targets.index.values:\n",
    "    drug_1 = high_corr_targets.loc[pair, 'index']\n",
    "    drug_2 = high_corr_targets.loc[pair, 'variable']\n",
    "     \n",
    "    #Get target vector for both drugs\n",
    "    target_array_1 = np.array(targets_df.loc[drug_1])\n",
    "    target_array_2 = np.array(targets_df.loc[drug_2])\n",
    "    \n",
    "    #Get locations of targets for both drugs\n",
    "    nonzero_target_1 = np.nonzero(target_array_1)[0]\n",
    "    nonzero_target_2 = np.nonzero(target_array_2)[0]\n",
    "    \n",
    "    #Get list of shared targets for both drugs\n",
    "    nonzero_targets = list(set(nonzero_target_1) & set (nonzero_target_2))\n",
    "    shared_targets = [i for i in nonzero_targets if target_array_1[i] == target_array_2[i]]\n",
    "    \n",
    "    #Look at the transcriptomic vectors for every cell line \n",
    "    for line in cell_lines[drug_1]:\n",
    "        for line_2 in cell_lines[drug_2]:\n",
    "            if line == line_2: \n",
    "                #Get transcriptomic similarity score\n",
    "                transcript_vals.append(transcript_similarity_df.loc[drug_1 + '_' + line, \\\n",
    "                                                                    drug_2 + '_' + line])\n",
    "                \n",
    "                #Get the DEGs for the first drug\n",
    "                transcript_array_1 = np.array(transcriptomic_responses_df.loc[drug_1 + '_' + line])\n",
    "                nonzero_transcript_1 = np.nonzero(transcript_array_1)[0]\n",
    "                num_nonzero_transcript_1.append(len(nonzero_transcript_1))\n",
    "\n",
    "                #Get the DEGs for the second drug\n",
    "                transcript_array_2 = np.array(transcriptomic_responses_df.loc[drug_2 + '_' + line])\n",
    "                nonzero_transcript_2 = np.nonzero(transcript_array_2)[0]\n",
    "                num_nonzero_transcript_2.append(len(nonzero_transcript_2))\n",
    "\n",
    "                #Get the number of shared DEGs\n",
    "                nonzero_transcripts = list(set(nonzero_transcript_1) & set (nonzero_transcript_2))\n",
    "                shared_DEGs = [i for i in nonzero_transcripts if transcript_array_1[i] == transcript_array_2[i]]\n",
    "                num_shared_DEGs.append(len(shared_DEGs))\n",
    "                \n",
    "                #Add both drugs to list of all drug names\n",
    "                all_drug_1.append(drug_1 + '_' + line)\n",
    "                all_drug_2.append(drug_2 + '_' + line)\n",
    "                \n",
    "                #Get number of shared targets\n",
    "                num_nonzero_targets_1.append(len(nonzero_target_1))\n",
    "                num_nonzero_targets_2.append(len(nonzero_target_2))\n",
    "                num_shared_targets.append(len(shared_targets))\n",
    "                target_vals.append(similarity_df.loc[drug_1, drug_2])\n",
    "                    "
   ]
  },
  {
   "cell_type": "code",
   "execution_count": 19,
   "id": "70b431d2",
   "metadata": {},
   "outputs": [],
   "source": [
    "#Load chemical names data frame\n",
    "chemical_names = pd.read_csv('../data/ChemPert_data/Information_for_perturbagens_2.csv', sep='@')\n",
    "chemical_names = chemical_names.set_index(\"'id'\")\n",
    "chemical_names.head()\n",
    "\n",
    "#Create chemical names dictionary\n",
    "chemical_names_dict_keys = list(chemical_names['Chemical_ID'])\n",
    "chemical_names_dict_values = list(chemical_names['Chemical_Compound'])\n",
    "chemical_names_dict = {chemical_names_dict_keys[i]:chemical_names_dict_values[i] for i in \\\n",
    "                       range(len(chemical_names_dict_values))}"
   ]
  },
  {
   "cell_type": "code",
   "execution_count": 20,
   "id": "5ddbc498",
   "metadata": {},
   "outputs": [],
   "source": [
    "#Create data frame with information about the drug pairs that share targets\n",
    "high_corr_targets_cell_lines = pd.DataFrame()\n",
    "high_corr_targets_cell_lines['drug_1'] = all_drug_1\n",
    "high_corr_targets_cell_lines['drug_2'] = all_drug_2\n",
    "high_corr_targets_cell_lines['transcriptomic_similarity'] = transcript_vals\n",
    "high_corr_targets_cell_lines['target_similarity'] = target_vals\n",
    "high_corr_targets_cell_lines['num_nonzero_targets_1'] = num_nonzero_targets_1\n",
    "high_corr_targets_cell_lines['num_nonzero_targets_2'] = num_nonzero_targets_2\n",
    "high_corr_targets_cell_lines['num_nonzero_transcript_1'] = num_nonzero_transcript_1\n",
    "high_corr_targets_cell_lines['num_nonzero_transcript_2'] = num_nonzero_transcript_2\n",
    "high_corr_targets_cell_lines['num_shared_targets'] = num_shared_targets\n",
    "high_corr_targets_cell_lines['num_shared_DEGs'] = num_shared_DEGs\n",
    "high_corr_targets_cell_lines['drug_name_1'] = [chemical_names_dict[drug.split('_')[0]] for drug in all_drug_1]\n",
    "high_corr_targets_cell_lines['drug_name_2'] = [chemical_names_dict[drug.split('_')[0]] for drug in all_drug_2]\n",
    "high_corr_targets_cell_lines = high_corr_targets_cell_lines[['drug_1', 'drug_2', 'drug_name_1', 'drug_name_2', \n",
    "                                        'target_similarity','transcriptomic_similarity',\n",
    "                                        'num_nonzero_targets_1', 'num_nonzero_targets_2',\n",
    "                                        'num_nonzero_transcript_1', 'num_nonzero_transcript_2',\n",
    "                                        'num_shared_targets', 'num_shared_DEGs']]"
   ]
  },
  {
   "cell_type": "code",
   "execution_count": 21,
   "id": "4065097c",
   "metadata": {},
   "outputs": [],
   "source": [
    "high_corr_targets_cell_lines.to_csv('../data/target_high_correlation_cell_lines.csv')"
   ]
  },
  {
   "cell_type": "markdown",
   "id": "4afc30aa",
   "metadata": {},
   "source": [
    "# Look at pairs where the transcriptomic vectors are highly correlated"
   ]
  },
  {
   "cell_type": "code",
   "execution_count": 22,
   "id": "9324d7a5",
   "metadata": {},
   "outputs": [],
   "source": [
    "target_vals = []\n",
    "\n",
    "#Get drug pairs where the transcriptomic vectors are highly correlated\n",
    "high_corr_transcripts = transcript_similarity_df.reset_index().melt(id_vars='index').query('value >= .6')\n",
    "\n",
    "#Get target similarity values for drug pairs with high transcriptomic similarity\n",
    "for pair in high_corr_transcripts.index.values:\n",
    "    drug_1 = high_corr_transcripts.loc[pair, 'index'].split('_')[0]\n",
    "    drug_2 = high_corr_transcripts.loc[pair, 'variable'].split('_')[0]\n",
    "    target_vals.append(similarity_df.loc[drug_1, drug_2])\n",
    "    "
   ]
  },
  {
   "cell_type": "code",
   "execution_count": 23,
   "id": "d696ed7e",
   "metadata": {},
   "outputs": [
    {
     "data": {
      "text/plain": [
       "<Figure size 3000x2000 with 0 Axes>"
      ]
     },
     "metadata": {},
     "output_type": "display_data"
    },
    {
     "data": {
      "image/png": "[encoded data removed]",
      "text/plain": [
       "<Figure size 720x360 with 4 Axes>"
      ]
     },
     "metadata": {
      "needs_background": "light"
     },
     "output_type": "display_data"
    }
   ],
   "source": [
    "#Create data frame with target similarity values and transcriptomic similarity values\n",
    "high_corr_target_df = np.array([target_vals, list(high_corr_transcripts['value'])])\n",
    "high_corr_target_df = pd.DataFrame(high_corr_target_df, index = ['Target similarity', \\\n",
    "                                                                 'Transcriptomic similarity'])\n",
    "\n",
    "#Create figure of target and transcriptomic similarity values\n",
    "plt.figure(dpi=500)\n",
    "sns.clustermap(high_corr_target_df, figsize=(10,5), xticklabels=False,yticklabels=True)\n",
    "plt.savefig('../figures/figure_4.png', bbox_inches='tight')\n",
    "plt.show()"
   ]
  },
  {
   "cell_type": "code",
   "execution_count": 24,
   "id": "bbece9f8",
   "metadata": {},
   "outputs": [
    {
     "name": "stderr",
     "output_type": "stream",
     "text": [
      "100%|███████████████████████████| 34150980/34150980 [05:21<00:00, 106349.87it/s]\n"
     ]
    }
   ],
   "source": [
    "all_target_vals = []\n",
    "all_pairs = []\n",
    "\n",
    "#Get all pairs of drugs\n",
    "all_combinations = combinations(transcriptomic_responses_df.index.values, 2)\n",
    "for pair in all_combinations:\n",
    "    all_pairs.append(pair) \n",
    "\n",
    "for pair in tqdm(all_pairs):\n",
    "    drug_1 = pair[0]\n",
    "    drug_2 = pair[1]\n",
    "    if not pd.isna(transcript_similarity_df.loc[drug_1, drug_2]):\n",
    "        all_target_vals.append(similarity_df.loc[drug_1.split('_')[0], drug_2.split('_')[0]])"
   ]
  },
  {
   "cell_type": "code",
   "execution_count": 25,
   "id": "d6caefc0",
   "metadata": {},
   "outputs": [
    {
     "name": "stdout",
     "output_type": "stream",
     "text": [
      "Average target similarity for drug pairs with similar transcripts: 0.04498597576563522\n",
      "Average target similarity all drug pairs: 0.0045492129629340905\n",
      "Percentage of drug pairs with high transcriptomic similarity that share at least one target: 0.1885245901639344\n",
      "Percentage of all drug pairs that share at least one target: 0.02884004128012519\n"
     ]
    }
   ],
   "source": [
    "print('Average target similarity for drug pairs with similar transcripts: ' \\\n",
    "     + str(sum(target_vals)/len(target_vals)))\n",
    "print('Average target similarity all drug pairs: ' \\\n",
    "     + str(sum(similarity_array)/len(similarity_array)))\n",
    "print('Percentage of drug pairs with high transcriptomic similarity that share at least one target: '\\\n",
    "     + str(len(np.nonzero(target_vals)[0])/len(target_vals)))\n",
    "print('Percentage of all drug pairs that share at least one target: '\\\n",
    "     + str(len(np.nonzero(all_target_vals)[0])/len(all_target_vals)))"
   ]
  },
  {
   "cell_type": "markdown",
   "id": "a1511e46",
   "metadata": {},
   "source": [
    "### Save highly correlated pairs"
   ]
  },
  {
   "cell_type": "code",
   "execution_count": 26,
   "id": "eecb14f6",
   "metadata": {},
   "outputs": [],
   "source": [
    "#Create lists\n",
    "all_drug_1 = []\n",
    "all_drug_2 = []\n",
    "num_nonzero_targets_1 = []\n",
    "num_nonzero_targets_2 = []\n",
    "num_nonzero_transcript_1 = []\n",
    "num_nonzero_transcript_2 = []\n",
    "num_shared_targets = []\n",
    "num_shared_DEGs = []\n",
    "target_vals = []\n",
    "transcriptomic_vals = []\n",
    "\n",
    "#Get more information about the drug pairs with high transcriptomic similarity\n",
    "for pair in high_corr_transcripts.index.values:\n",
    "    drug_1 = high_corr_transcripts.loc[pair, 'index']\n",
    "    drug_2 = high_corr_transcripts.loc[pair, 'variable']\n",
    "    all_drug_1.append(drug_1)\n",
    "    all_drug_2.append(drug_2)\n",
    "    transcriptomic_vals.append(high_corr_transcripts.loc[pair, 'value'])\n",
    "    \n",
    "    #Get target similarity scores\n",
    "    target_vals.append(similarity_df.loc[drug_1.split('_')[0], drug_2.split('_')[0]])\n",
    "    \n",
    "    #Get target vectors and transcriptomic vectors for both drugs\n",
    "    target_array_1 = np.array(targets_df.loc[drug_1.split('_')[0]])\n",
    "    target_array_2 = np.array(targets_df.loc[drug_2.split('_')[0]])\n",
    "    transcript_array_1 = np.array(transcriptomic_responses_df.loc[drug_1])\n",
    "    transcript_array_2 = np.array(transcriptomic_responses_df.loc[drug_2])\n",
    "    \n",
    "    #Get targets and DEGs for both drugs\n",
    "    nonzero_target_1 = np.nonzero(target_array_1)[0]\n",
    "    nonzero_target_2 = np.nonzero(target_array_2)[0]\n",
    "    nonzero_transcript_1 = np.nonzero(transcript_array_1)[0]\n",
    "    nonzero_transcript_2 = np.nonzero(transcript_array_2)[0]\n",
    "    \n",
    "    #Get number of targets and DEGs for both drugs\n",
    "    num_nonzero_targets_1.append(len(nonzero_target_1))\n",
    "    num_nonzero_targets_2.append(len(nonzero_target_2))\n",
    "    num_nonzero_transcript_1.append(len(nonzero_transcript_1))\n",
    "    num_nonzero_transcript_2.append(len(nonzero_transcript_2))\n",
    "    \n",
    "    #Get shared targets and DEGs\n",
    "    nonzero_targets = list(set(nonzero_target_1) & set (nonzero_target_2))\n",
    "    nonzero_transcripts = list(set(nonzero_transcript_1) & set (nonzero_transcript_2))\n",
    "    shared_targets = [i for i in nonzero_targets if target_array_1[i] == target_array_2[i]]\n",
    "    shared_DEGs = [i for i in nonzero_transcripts if transcript_array_1[i] == transcript_array_2[i]]\n",
    "    \n",
    "    #Get number of shared targets and DEGs\n",
    "    num_shared_targets.append(len(shared_targets))\n",
    "    num_shared_DEGs.append(len(shared_DEGs))"
   ]
  },
  {
   "cell_type": "code",
   "execution_count": 27,
   "id": "32a7b6ea",
   "metadata": {},
   "outputs": [],
   "source": [
    "#Create data frame with information about the drug pairs\n",
    "#with high transcriptomic similarity\n",
    "high_corr_transcripts_cell_lines = pd.DataFrame()\n",
    "high_corr_transcripts_cell_lines['drug_1'] = all_drug_1\n",
    "high_corr_transcripts_cell_lines['drug_2'] = all_drug_2\n",
    "high_corr_transcripts_cell_lines['transcriptomic_similarity'] = transcriptomic_vals\n",
    "high_corr_transcripts_cell_lines['target_similarity'] = target_vals\n",
    "high_corr_transcripts_cell_lines['num_nonzero_targets_1'] = num_nonzero_targets_1\n",
    "high_corr_transcripts_cell_lines['num_nonzero_targets_2'] = num_nonzero_targets_2\n",
    "high_corr_transcripts_cell_lines['num_nonzero_transcript_1'] = num_nonzero_transcript_1\n",
    "high_corr_transcripts_cell_lines['num_nonzero_transcript_2'] = num_nonzero_transcript_2\n",
    "high_corr_transcripts_cell_lines['num_shared_targets'] = num_shared_targets\n",
    "high_corr_transcripts_cell_lines['num_shared_DEGs'] = num_shared_DEGs\n",
    "high_corr_transcripts_cell_lines['drug_name_1'] = [chemical_names_dict[drug.split('_')[0]] for drug \\\n",
    "                                                   in high_corr_transcripts_cell_lines['drug_1']]\n",
    "high_corr_transcripts_cell_lines['drug_name_2'] = [chemical_names_dict[drug.split('_')[0]] for drug \\\n",
    "                                                   in high_corr_transcripts_cell_lines['drug_2']]\n",
    "\n",
    "high_corr_transcripts_cell_lines = high_corr_transcripts_cell_lines[['drug_1', 'drug_2', 'drug_name_1',\\\n",
    "                                                                     'drug_name_2', 'transcriptomic_similarity', \\\n",
    "                                                                     'target_similarity','num_nonzero_targets_1',\\\n",
    "                                                                     'num_nonzero_targets_2',\n",
    "                                                                     'num_nonzero_transcript_1', \n",
    "                                                                     'num_nonzero_transcript_2',\n",
    "                                                                     'num_shared_targets', 'num_shared_DEGs']]"
   ]
  },
  {
   "cell_type": "code",
   "execution_count": 28,
   "id": "3accfde3",
   "metadata": {},
   "outputs": [],
   "source": [
    "high_corr_transcripts_cell_lines.to_csv('../data/transcriptomic_high_correlation_cell_lines.csv')"
   ]
  },
  {
   "cell_type": "markdown",
   "id": "d1cd741a",
   "metadata": {},
   "source": [
    "# Permutation Tests"
   ]
  },
  {
   "cell_type": "code",
   "execution_count": 29,
   "id": "4f8ada39",
   "metadata": {},
   "outputs": [
    {
     "name": "stderr",
     "output_type": "stream",
     "text": [
      "100%|███████████████████████████████████████| 1000/1000 [27:18<00:00,  1.64s/it]\n"
     ]
    }
   ],
   "source": [
    "#Set initial variables\n",
    "num_permutations = 1000\n",
    "original_pearson_scores = []\n",
    "kegg_pearson_scores = []\n",
    "network_pearson_scores = []\n",
    "network_repeated_pearson_scores = []\n",
    "\n",
    "#Do permutation test\n",
    "for i in tqdm(range(num_permutations)):\n",
    "    current_transcript_similarity_array = np.array(transcript_similarity_array.copy())\n",
    "    np.random.shuffle(current_transcript_similarity_array)\n",
    "    original_pearson_scores.append(pearsonr(similarity_array, current_transcript_similarity_array)[0])\n",
    "    kegg_pearson_scores.append(pearsonr(kegg_similarity_array, current_transcript_similarity_array)[0])\n",
    "    network_pearson_scores.append(pearsonr(network_similarity_array, current_transcript_similarity_array)[0])\n",
    "    network_repeated_pearson_scores.append(pearsonr(network_repeated_similarity_array, \n",
    "                                                    current_transcript_similarity_array)[0])\n",
    "    \n"
   ]
  },
  {
   "cell_type": "code",
   "execution_count": 31,
   "id": "37f790d3",
   "metadata": {},
   "outputs": [
    {
     "data": {
      "image/png": "[encoded data removed]",
      "text/plain": [
       "<Figure size 432x288 with 1 Axes>"
      ]
     },
     "metadata": {
      "needs_background": "light"
     },
     "output_type": "display_data"
    },
    {
     "data": {
      "image/png": "[encoded data removed]",
      "text/plain": [
       "<Figure size 432x288 with 1 Axes>"
      ]
     },
     "metadata": {
      "needs_background": "light"
     },
     "output_type": "display_data"
    },
    {
     "data": {
      "image/png": "[encoded data removed]",
      "text/plain": [
       "<Figure size 432x288 with 1 Axes>"
      ]
     },
     "metadata": {
      "needs_background": "light"
     },
     "output_type": "display_data"
    },
    {
     "data": {
      "image/png": "[encoded data removed]",
      "text/plain": [
       "<Figure size 432x288 with 1 Axes>"
      ]
     },
     "metadata": {
      "needs_background": "light"
     },
     "output_type": "display_data"
    }
   ],
   "source": [
    "#Permutation test for ChemPert\n",
    "plt.hist(original_pearson_scores)\n",
    "plt.scatter(pearsonr(similarity_array, transcript_similarity_array)[0], .3, s=30, color='orange',\\\n",
    "           label='Pearson correlation w/o permutation')\n",
    "plt.title('Permutation test with ChemPert vectors')\n",
    "plt.xlabel('Mean Pearson permutation scores')\n",
    "plt.legend()\n",
    "plt.show()\n",
    "\n",
    "#Permutation test for ChemPert with KEGG\n",
    "plt.hist(kegg_pearson_scores)\n",
    "plt.scatter(pearsonr(kegg_similarity_array, transcript_similarity_array)[0], .3, s=30, color='orange', \\\n",
    "           label='Pearson correlation w/o permutation')\n",
    "plt.title('Permutation test with ChemPert(KEGG) vectors')\n",
    "plt.xlabel('Mean Pearson permutation scores')\n",
    "plt.legend()\n",
    "plt.show()\n",
    "\n",
    "#Permutation test for ChemPert with topological information\n",
    "plt.hist(network_pearson_scores)\n",
    "plt.scatter(pearsonr(network_similarity_array, transcript_similarity_array)[0], .3, s=30, color='orange', \\\n",
    "           label='Pearson correlation w/o permutation')\n",
    "plt.title('Permutation test with ChemPert(Topological) vectors')\n",
    "plt.xlabel('Mean Pearson permutation scores')\n",
    "plt.legend()\n",
    "plt.show()\n",
    "\n",
    "#Permutation test for ChemPert with topological information at level 2\n",
    "plt.hist(network_repeated_pearson_scores)\n",
    "plt.scatter(pearsonr(network_repeated_similarity_array, transcript_similarity_array)[0], .3, s=30, color='orange',\\\n",
    "           label='Pearson correlation w/o permutation')\n",
    "plt.title('Permutation test with ChemPert(Topological_Level_2) vectors')\n",
    "plt.xlabel('Mean Pearson permutation scores')\n",
    "plt.legend()\n",
    "plt.show()"
   ]
  },
  {
   "cell_type": "code",
   "execution_count": null,
   "id": "4ce29e7e",
   "metadata": {},
   "outputs": [],
   "source": []
  }
 ],
 "metadata": {
  "kernelspec": {
   "display_name": "Python [conda env:s3_env]",
   "language": "python",
   "name": "conda-env-s3_env-py"
  },
  "language_info": {
   "codemirror_mode": {
    "name": "ipython",
    "version": 3
   },
   "file_extension": ".py",
   "mimetype": "text/x-python",
   "name": "python",
   "nbconvert_exporter": "python",
   "pygments_lexer": "ipython3",
   "version": "3.9.12"
  }
 },
 "nbformat": 4,
 "nbformat_minor": 5
}
