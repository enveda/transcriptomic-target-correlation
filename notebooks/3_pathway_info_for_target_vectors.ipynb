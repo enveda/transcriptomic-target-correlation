{
 "cells": [
  {
   "cell_type": "markdown",
   "id": "ccae9a07",
   "metadata": {},
   "source": [
    "# Protein Pathways\n",
    "\n",
    "This notebook uses different protein pathway databases to adjust the ChemPert target data frame from the chempert_preprocessing notebook"
   ]
  },
  {
   "cell_type": "code",
   "execution_count": 1,
   "id": "fcc6fdd7",
   "metadata": {},
   "outputs": [],
   "source": [
    "#This is the database you will be using to adjust the target data frame\n",
    "#options: 'kegg_network', 'directional', 'kegg', 'kegg_directional_combined'\n",
    "current_database = 'kegg_network'"
   ]
  },
  {
   "cell_type": "code",
   "execution_count": 2,
   "id": "530c87f6",
   "metadata": {},
   "outputs": [],
   "source": [
    "import pandas as pd\n",
    "import numpy as np\n",
    "from tqdm import tqdm_notebook, tqdm\n",
    "from matplotlib import pyplot as plt"
   ]
  },
  {
   "cell_type": "markdown",
   "id": "6643c52b",
   "metadata": {},
   "source": [
    "# Get Protein Pathway Databases"
   ]
  },
  {
   "cell_type": "markdown",
   "id": "aee8c1ec",
   "metadata": {},
   "source": [
    "### Pathways"
   ]
  },
  {
   "cell_type": "code",
   "execution_count": 3,
   "id": "4a389eb0",
   "metadata": {},
   "outputs": [],
   "source": [
    "# pathway data set\n",
    "kegg_df = pd.read_csv('../data/Protein_pathways/kegg_data.csv', sep=',', header=None, low_memory=False)\n",
    "kegg_df = kegg_df.drop([0,1], axis=1)\n",
    "\n",
    "# Filter pathways \n",
    "for i in kegg_df.index.values:\n",
    "    current_pathway = kegg_df.loc[i]\n",
    "    current_pathway = [x for x in current_pathway if not pd.isna(x)]\n",
    "    if len(current_pathway) > 300 or len(current_pathway) < 15:\n",
    "        kegg_df = kegg_df.drop(i, axis=0)\n",
    "       "
   ]
  },
  {
   "cell_type": "markdown",
   "id": "d7b53772",
   "metadata": {},
   "source": [
    "### Directional network"
   ]
  },
  {
   "cell_type": "code",
   "execution_count": 4,
   "id": "1a9c65c6",
   "metadata": {},
   "outputs": [
    {
     "data": {
      "text/html": [
       "<div>\n",
       "<style scoped>\n",
       "    .dataframe tbody tr th:only-of-type {\n",
       "        vertical-align: middle;\n",
       "    }\n",
       "\n",
       "    .dataframe tbody tr th {\n",
       "        vertical-align: top;\n",
       "    }\n",
       "\n",
       "    .dataframe thead th {\n",
       "        text-align: right;\n",
       "    }\n",
       "</style>\n",
       "<table border=\"1\" class=\"dataframe\">\n",
       "  <thead>\n",
       "    <tr style=\"text-align: right;\">\n",
       "      <th></th>\n",
       "      <th>source</th>\n",
       "      <th>target</th>\n",
       "      <th>relation</th>\n",
       "      <th>source_database</th>\n",
       "    </tr>\n",
       "  </thead>\n",
       "  <tbody>\n",
       "    <tr>\n",
       "      <th>25514</th>\n",
       "      <td>hgnc:7835</td>\n",
       "      <td>hgnc:4195</td>\n",
       "      <td>1</td>\n",
       "      <td>KEGG</td>\n",
       "    </tr>\n",
       "    <tr>\n",
       "      <th>25515</th>\n",
       "      <td>hgnc:7835</td>\n",
       "      <td>hgnc:5329</td>\n",
       "      <td>1</td>\n",
       "      <td>KEGG</td>\n",
       "    </tr>\n",
       "    <tr>\n",
       "      <th>25516</th>\n",
       "      <td>hgnc:7835</td>\n",
       "      <td>hgnc:6081</td>\n",
       "      <td>1</td>\n",
       "      <td>KEGG</td>\n",
       "    </tr>\n",
       "    <tr>\n",
       "      <th>25517</th>\n",
       "      <td>hgnc:13633</td>\n",
       "      <td>hgnc:24041</td>\n",
       "      <td>1</td>\n",
       "      <td>KEGG</td>\n",
       "    </tr>\n",
       "    <tr>\n",
       "      <th>25518</th>\n",
       "      <td>hgnc:13633</td>\n",
       "      <td>hgnc:9232</td>\n",
       "      <td>1</td>\n",
       "      <td>KEGG</td>\n",
       "    </tr>\n",
       "  </tbody>\n",
       "</table>\n",
       "</div>"
      ],
      "text/plain": [
       "           source      target  relation source_database\n",
       "25514   hgnc:7835   hgnc:4195         1            KEGG\n",
       "25515   hgnc:7835   hgnc:5329         1            KEGG\n",
       "25516   hgnc:7835   hgnc:6081         1            KEGG\n",
       "25517  hgnc:13633  hgnc:24041         1            KEGG\n",
       "25518  hgnc:13633   hgnc:9232         1            KEGG"
      ]
     },
     "execution_count": 4,
     "metadata": {},
     "output_type": "execute_result"
    }
   ],
   "source": [
    "#KEGG directional relationships\n",
    "kegg_network = pd.read_csv('../data/Protein_pathways/Kegg_network.tsv', sep='\\t')\n",
    "kegg_network = kegg_network.loc[kegg_network['source_database'].apply(lambda x: x == 'KEGG')]\n",
    "kegg_network['source'] = ['hgnc:' + x.split(':')[1] for x in kegg_network['source']]\n",
    "kegg_network['target'] = ['hgnc:' + x.split(':')[1] for x in kegg_network['target']]\n",
    "kegg_network.head()"
   ]
  },
  {
   "cell_type": "markdown",
   "id": "407e3636",
   "metadata": {},
   "source": [
    "# Get HGNC Symbols for Proteins"
   ]
  },
  {
   "cell_type": "markdown",
   "id": "07ca6133",
   "metadata": {},
   "source": [
    "### Map protein codes to NCBI codes"
   ]
  },
  {
   "cell_type": "code",
   "execution_count": 5,
   "id": "ccc32674",
   "metadata": {},
   "outputs": [],
   "source": [
    "#Get 1st map to map proteins to NCBI Codes\n",
    "map_1_df = pd.read_csv('../data/Protein_mappings/proteins_uniprot.tsv', sep='\\t', header=None)\n",
    "map_1_df = map_1_df.rename({0: 'code', 1:'NCBI'}, axis=1)\n",
    "map_1_df.head()\n",
    "\n",
    "#Create dictionary mapping protein codes to NCBI codes\n",
    "map_1_keys = list(map_1_df['code'])\n",
    "map_1_values = list(map_1_df['NCBI'])\n",
    "map_1_dict = {map_1_keys[i]: map_1_values[i] for i in range(len(map_1_keys))}"
   ]
  },
  {
   "cell_type": "markdown",
   "id": "b6d33b15",
   "metadata": {},
   "source": [
    "### Map NCBI codes to HGNC symbols"
   ]
  },
  {
   "cell_type": "code",
   "execution_count": 6,
   "id": "0e8b5415",
   "metadata": {},
   "outputs": [],
   "source": [
    "#Get 2nd map to map proteins to HGNC symbols\n",
    "map_2_df = pd.read_csv('../data/Protein_mappings/proteins.tsv', sep='\\t', header=None)\n",
    "map_2_df = map_2_df.rename({0: 'NCBI', 2:'HGNC'}, axis=1)\n",
    "map_2_df.head()\n",
    "\n",
    "#Create dictionary mapping NCBI codes to HGNC codes\n",
    "map_2_keys = list(map_2_df['NCBI'])\n",
    "map_2_values = list(map_2_df['HGNC'])\n",
    "map_2_dict = {map_2_keys[i]: map_2_values[i] for i in range(len(map_2_keys))}"
   ]
  },
  {
   "cell_type": "markdown",
   "id": "12cc5849",
   "metadata": {},
   "source": [
    "### Map all drugs in databases to HGNC codes"
   ]
  },
  {
   "cell_type": "code",
   "execution_count": 7,
   "id": "161ddb11",
   "metadata": {},
   "outputs": [
    {
     "name": "stdout",
     "output_type": "stream",
     "text": [
      "Number of Unmapped proteins from kegg network: 0\n",
      "Number of proteins in kegg network: 27047\n"
     ]
    }
   ],
   "source": [
    "#Create function that maps the protein to HGNC symbols\n",
    "def dict_func(x):\n",
    "    try:\n",
    "        result = map_2_dict[map_1_dict[x]]\n",
    "    except:\n",
    "        result = 'None'\n",
    "    return result\n",
    "\n",
    "#Convert KEGG directional database to HGNC symbols\n",
    "kegg_network['source'] = kegg_network['source'].map(lambda x: dict_func(x))\n",
    "kegg_network['target'] = kegg_network['target'].map(lambda x: dict_func(x))\n",
    "print(\"Number of Unmapped proteins from kegg network: \" + str(list(kegg_network['source']).count('None')))\n",
    "print(\"Number of proteins in kegg network: \" + str(kegg_network.shape[0]))"
   ]
  },
  {
   "cell_type": "markdown",
   "id": "a597a178",
   "metadata": {},
   "source": [
    "# Get Chempert data"
   ]
  },
  {
   "cell_type": "code",
   "execution_count": 8,
   "id": "c6fc529f",
   "metadata": {},
   "outputs": [],
   "source": [
    "#Get transcriptomic data frame\n",
    "transcriptomic_responses_df = pd.read_csv(\n",
    "    '../data/Transcriptional_data_frames/transcriptional_response_vectors.tsv',\n",
    "    sep='\\t',\n",
    "    index_col=0,\n",
    ")"
   ]
  },
  {
   "cell_type": "code",
   "execution_count": 9,
   "id": "b3702752",
   "metadata": {},
   "outputs": [],
   "source": [
    "#Get targets data frame\n",
    "targets_df = pd.read_csv(\n",
    "    '../data/target_data_frames/target_vectors_Chempert.tsv',\n",
    "    sep='\\t',\n",
    "    index_col=0,\n",
    ")"
   ]
  },
  {
   "cell_type": "markdown",
   "id": "79c0ae87",
   "metadata": {},
   "source": [
    "# Add Protein Pathways to Target Data Frame"
   ]
  },
  {
   "cell_type": "markdown",
   "id": "4db7670a",
   "metadata": {},
   "source": [
    "### Adjust targets_df based on KEGG protein pathways"
   ]
  },
  {
   "cell_type": "code",
   "execution_count": 10,
   "id": "e72c60fb",
   "metadata": {},
   "outputs": [],
   "source": [
    "if current_database =='kegg':\n",
    "    #Set initial variables\n",
    "    current_pathways = kegg_df.copy()\n",
    "    new_targets_df = targets_df.copy()\n",
    "    current_dict = {protein: current_pathways[current_pathways.isin([protein]).any(axis=1)].to_numpy()\n",
    "                   for protein in targets_df.columns}\n",
    "\n",
    "    # Get list of targeted proteins\n",
    "    nonzero_vals = new_targets_df.apply(np.flatnonzero, axis=1)\n",
    "    columns = targets_df.columns\n",
    "    nonzero_vals = nonzero_vals.apply(lambda x: np.array(x))\n",
    "    nonzero_vals = nonzero_vals.apply(lambda x: list(columns[x]))\n",
    "\n",
    "    # Get related proteins\n",
    "    related_proteins = nonzero_vals.apply(lambda x: [current_dict[protein] for protein in x])\n",
    "    related_proteins = related_proteins.apply(lambda x: [related.flatten() for related in x])\n",
    "    related_proteins = related_proteins.apply(lambda x: [related[~(pd.isna(related))] for related in x])\n",
    "    related_proteins = related_proteins.apply(lambda x: [list(set(related)) for related in x])\n",
    "\n",
    "    # Create new target data frame\n",
    "    for drug in related_proteins.index.values:\n",
    "        for i,protein in enumerate(nonzero_vals[drug]):\n",
    "            gene_list = related_proteins[drug][i]\n",
    "            gene_list = list(set(gene_list).intersection(targets_df.columns))\n",
    "            test = np.array(new_targets_df.loc[drug, gene_list] == 0)\n",
    "            gene_list = np.array(gene_list)[test]\n",
    "            new_targets_df.loc[drug, gene_list] = np.ones(len(gene_list))*targets_df.loc[drug, protein] \n",
    "    \n",
    "    new_targets_df.to_csv(r'../data/target_data_frames/target_vectors_KEGG.csv')"
   ]
  },
  {
   "cell_type": "markdown",
   "id": "ceab0b53",
   "metadata": {},
   "source": [
    "### Get KEGG network protein pathways (apply this multiple times) "
   ]
  },
  {
   "cell_type": "code",
   "execution_count": 14,
   "id": "c05ea158",
   "metadata": {},
   "outputs": [],
   "source": [
    "if current_database == 'kegg_network':\n",
    "    targets_df = pd.read_csv(\n",
    "    '../data/target_data_frames/target_vectors_Chempert.tsv',\n",
    "    sep='\\t',\n",
    "    index_col=0,\n",
    "    )\n",
    "    #Set initial variables\n",
    "    current_network = kegg_network.copy()\n",
    "    sources = list(current_network['source'])\n",
    "    targets = list(current_network['target'])\n",
    "    relations = np.array(current_network['relation'])\n",
    "    protein_relationship_indexes = {protein: [i for i,x in enumerate(sources) if x==protein] \n",
    "                                        for protein in targets_df.columns}\n",
    "    correlation = True\n",
    "    new_targets_df = targets_df.copy()\n",
    "\n",
    "    #Set number of levels to repeatedly apply the kegg network database\n",
    "    num_levels = 3\n",
    "\n",
    "    #Add protein pathways from directional pathways. Num_levels is the number of times to repeat this process\n",
    "    for i in range(num_levels):\n",
    "        drugs = np.array(targets_df.index.values)\n",
    "        columns = targets_df.columns\n",
    "        columns = [x for x in columns if x in sources]\n",
    "\n",
    "        # Get index of drugs that target each protein\n",
    "        protein_array = targets_df.apply(np.flatnonzero, axis=0)\n",
    "\n",
    "        # Get proteins that are related to each other\n",
    "        related_proteins = {protein: np.array([[targets[i], i] for i in protein_relationship_indexes[protein]\n",
    "                                     if targets[i] in targets_df.columns]) for protein in columns}\n",
    "\n",
    "        # Remove proteins that are not in the dataset or that are related to any other proteins\n",
    "        proteins_to_remove = [x for x in protein_array.index.values if x not in columns or\n",
    "                              len(related_proteins[x]) == 0]\n",
    "\n",
    "        protein_array = protein_array.drop(proteins_to_remove, axis=0)\n",
    "\n",
    "        # Remove proteins that aren't targeted by any drugs\n",
    "        protein_array = protein_array[protein_array.apply(lambda x: len(x) > 0)]\n",
    "\n",
    "        # Get the relation for each pair of related proteins\n",
    "        protein_relationships = {protein: relations[np.uint64(related_proteins[protein][:,1])] \n",
    "                                 for protein in protein_array.index.values}\n",
    "\n",
    "\n",
    "        # Get drug names for drugs targeting proteins\n",
    "        drug_names = [drugs[x] for x in protein_array.values]\n",
    "        drug_names = pd.Series(drug_names, index=protein_array.index.values,)\n",
    "\n",
    "        # Determine whether each target protein is upregulated or downregulated\n",
    "        protein_array_values = [[targets_df.loc[drug, protein] for drug in drug_names[protein]] \n",
    "                                for protein in drug_names.index.values]\n",
    "        protein_array_values = pd.Series(protein_array_values, index=protein_array.index.values)\n",
    "\n",
    "        # Update target dataframe\n",
    "        for protein in drug_names.index.values:\n",
    "            current_related = related_proteins[protein][:,0]\n",
    "            current_values = protein_array_values[protein]\n",
    "            new_targets_df.loc[drug_names[protein], current_related] = (np.tile(np.array(current_values)\n",
    "                                                                                  .reshape((len(current_values),1)), \n",
    "                                                                                  (1, len(current_related)))\\\n",
    "                                                                          * protein_relationships[protein])\n",
    "\n",
    "        targets_df = new_targets_df.copy()\n",
    "        targets_df.to_csv(r'../data/target_data_frames/target_vectors_KEGG_direction_repeated_' \\\n",
    "                          + str(i+1) + '_times_test.csv')\n"
   ]
  },
  {
   "cell_type": "code",
   "execution_count": null,
   "id": "3774ff2e",
   "metadata": {},
   "outputs": [],
   "source": []
  }
 ],
 "metadata": {
  "kernelspec": {
   "display_name": "Python 3 (ipykernel)",
   "language": "python",
   "name": "python3"
  },
  "language_info": {
   "codemirror_mode": {
    "name": "ipython",
    "version": 3
   },
   "file_extension": ".py",
   "mimetype": "text/x-python",
   "name": "python",
   "nbconvert_exporter": "python",
   "pygments_lexer": "ipython3",
   "version": "3.8.11"
  }
 },
 "nbformat": 4,
 "nbformat_minor": 5
}
